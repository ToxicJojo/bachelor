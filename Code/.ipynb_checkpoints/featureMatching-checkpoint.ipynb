{
 "cells": [
  {
   "cell_type": "code",
   "execution_count": 3,
   "metadata": {
    "collapsed": false
   },
   "outputs": [
    {
     "name": "stdout",
     "output_type": "stream",
     "text": [
      "Populating the interactive namespace from numpy and matplotlib\n"
     ]
    }
   ],
   "source": [
    "%pylab inline"
   ]
  },
  {
   "cell_type": "code",
   "execution_count": 4,
   "metadata": {
    "collapsed": true
   },
   "outputs": [],
   "source": [
    "import numpy as np\n",
    "import matplotlib.pyplot as plt\n",
    "import cv2\n",
    "import os\n",
    "from skimage import io\n",
    "\n",
    "import drawMatches as dm"
   ]
  },
  {
   "cell_type": "code",
   "execution_count": 9,
   "metadata": {
    "collapsed": true
   },
   "outputs": [],
   "source": [
    "# Constants\n",
    "METHOD_ORB = 'orb'\n",
    "METHOD_SIFT = 'sift'\n",
    "METHOD_SURF = 'surf'"
   ]
  },
  {
   "cell_type": "code",
   "execution_count": 119,
   "metadata": {
    "collapsed": true
   },
   "outputs": [],
   "source": [
    "# Hyper params\n",
    "SCORE_FACTOR_ORB = 1500\n",
    "SCORE_FACTOR_SIFT = 1000\n",
    "SCORE_FACTOR_SURF = 0.1\n",
    "\n",
    "SCORE_FACTOR = {}\n",
    "SCORE_FACTOR[METHOD_ORB] = SCORE_FACTOR_ORB\n",
    "SCORE_FACTOR[METHOD_SIFT] = SCORE_FACTOR_SIFT\n",
    "SCORE_FACTOR[METHOD_SURF] = SCORE_FACTOR_SURF\n"
   ]
  },
  {
   "cell_type": "code",
   "execution_count": 23,
   "metadata": {
    "collapsed": true
   },
   "outputs": [],
   "source": [
    "orb = cv2.ORB()\n",
    "sift = cv2.SIFT()\n",
    "surf = cv2.SURF(400)"
   ]
  },
  {
   "cell_type": "code",
   "execution_count": 112,
   "metadata": {
    "collapsed": true
   },
   "outputs": [],
   "source": [
    "def softmax(x):\n",
    "    \"\"\"Compute softmax values for each sets of scores in x.\"\"\"\n",
    "    return np.exp(x) / np.sum(np.exp(x), axis=0)"
   ]
  },
  {
   "cell_type": "code",
   "execution_count": 13,
   "metadata": {
    "collapsed": true
   },
   "outputs": [],
   "source": [
    "def addSetToList(files, name):\n",
    "    files.extend(map(lambda x: '/data/img/' + name + '/' + x, [f for f in os.listdir(os.getcwd() + '/data/img/' + name) if os.path.isfile(os.path.join(os.getcwd() + '/data/img/' + name, f))]))"
   ]
  },
  {
   "cell_type": "code",
   "execution_count": 122,
   "metadata": {
    "collapsed": true
   },
   "outputs": [],
   "source": [
    "def loadSets():\n",
    "    cardList = []\n",
    "    \n",
    "    addSetToList(cardList, 'KLD')\n",
    "    return cardList"
   ]
  },
  {
   "cell_type": "code",
   "execution_count": 113,
   "metadata": {
    "collapsed": true
   },
   "outputs": [],
   "source": [
    "def resetScores(cardData):\n",
    "    for name in cardData:\n",
    "        cardData[name][2] = 0"
   ]
  },
  {
   "cell_type": "code",
   "execution_count": 151,
   "metadata": {
    "collapsed": true
   },
   "outputs": [],
   "source": [
    "def getCardScores(descriptor, cardData, allDescriptors, cardIndex, featureMethod):\n",
    "    matches =  findGoodMatches(descriptor, allDescriptors, featureMethod)\n",
    "    \n",
    "    for match in matches:\n",
    "        cardData[cardIndex[match.trainIdx]][2] += (1 / (match.distance ** 2))"
   ]
  },
  {
   "cell_type": "code",
   "execution_count": 16,
   "metadata": {
    "collapsed": true
   },
   "outputs": [],
   "source": [
    "def smoothImage(image):\n",
    "    \"\"\"\n",
    "    Smoothes an image with a gaussian filter.\n",
    "    The filter size used is 5x5.\n",
    "    \"\"\"\n",
    "    return cv2.GaussianBlur(image, (5, 5), 0)"
   ]
  },
  {
   "cell_type": "code",
   "execution_count": 17,
   "metadata": {
    "collapsed": true
   },
   "outputs": [],
   "source": [
    "def prepareImage(image):\n",
    "    \"\"\"\n",
    "    Preprocesses an image before the features are calculated.\n",
    "    \n",
    "    The images gets resized to 128x128 and becomes a grayscale image.\n",
    "    \"\"\"\n",
    "    image =  cv2.resize(image, (128, 128), interpolation = cv2.INTER_CUBIC)\n",
    "    image = cv2.cvtColor(image, cv2.COLOR_BGR2GRAY)\n",
    "    return image"
   ]
  },
  {
   "cell_type": "code",
   "execution_count": 18,
   "metadata": {
    "collapsed": true
   },
   "outputs": [],
   "source": [
    "def getKeypointsAndDescriptor(image, featureMethod):\n",
    "    \"\"\"\n",
    "    Calculates the keypoints and their descriptors for the given image using\n",
    "    the method that was passed.\n",
    "    \"\"\"\n",
    "    if(featureMethod == METHOD_ORB):\n",
    "        return orb.detectAndCompute(image, None)\n",
    "    elif(featureMethod == METHOD_SIFT):\n",
    "        return sift.detectAndCompute(image, None)\n",
    "    elif(featureMethod == METHOD_SURF):\n",
    "        return surf.detectAndCompute(image, None)"
   ]
  },
  {
   "cell_type": "code",
   "execution_count": 128,
   "metadata": {
    "collapsed": true
   },
   "outputs": [],
   "source": [
    "def findMatches(descriptor1, descriptor2, featureMethod):\n",
    "    \"\"\"\n",
    "    Finds matches between the given lists of descriptors.\n",
    "    Uses the method passed.\n",
    "    \"\"\"\n",
    "    if(featureMethod == METHOD_ORB):\n",
    "        bf = cv2.BFMatcher(cv2.NORM_HAMMING)\n",
    "        return bf.knnMatch(descriptor1, descriptor2, k=2)\n",
    "    if(featureMethod == METHOD_SIFT):\n",
    "        FLANN_INDEX_KDTREE = 0\n",
    "        index_params = dict(algorithm = FLANN_INDEX_KDTREE, trees = 5)\n",
    "        search_params = dict(checks=50)   # or pass empty dictionary\n",
    "\n",
    "        flann = cv2.FlannBasedMatcher(index_params,search_params)\n",
    "\n",
    "        return flann.knnMatch(descriptor1,descriptor2,k=2)\n",
    "    elif(featureMethod == METHOD_SURF):\n",
    "        FLANN_INDEX_KDTREE = 0\n",
    "        index_params = dict(algorithm = FLANN_INDEX_KDTREE, trees = 5)\n",
    "        search_params = dict(checks=50)   # or pass empty dictionary\n",
    "\n",
    "        flann = cv2.FlannBasedMatcher(index_params,search_params)\n",
    "\n",
    "        return flann.knnMatch(descriptor1,descriptor2,k=2)"
   ]
  },
  {
   "cell_type": "code",
   "execution_count": 130,
   "metadata": {
    "collapsed": true
   },
   "outputs": [],
   "source": [
    "def findGoodMatches(descriptor1, descriptor2, featureMethod):\n",
    "    matches = findMatches(descriptor1, descriptor2, featureMethod)\n",
    "    \n",
    "    goodMatches = []\n",
    "\n",
    "    for i in range(0, len(matches)):\n",
    "        # We only want matches between two descriptors\n",
    "        if(len(matches[i]) == 2):\n",
    "            m = matches[i][0]\n",
    "            n = matches[i][1]\n",
    "            #D.Lowe's ratio test \n",
    "            if m.distance < 1 * n.distance:\n",
    "                goodMatches.append(m)\n",
    "    return goodMatches"
   ]
  },
  {
   "cell_type": "code",
   "execution_count": 153,
   "metadata": {
    "collapsed": true
   },
   "outputs": [],
   "source": [
    "def findBestMatch(cardImg, cardData, allDescriptors, cardIndex, featureMethod):\n",
    "    cardImg = prepareImage(cardImg)\n",
    "    \n",
    "    keypoints, descriptor = getKeypointsAndDescriptor(cardImg, featureMethod)\n",
    "    \n",
    "    getCardScores(descriptor, cardData, allDescriptors, cardIndex, featureMethod)\n",
    "    \n",
    "    i = 0\n",
    "    scores = np.zeros((len(cardData)))\n",
    "    \n",
    "    for card  in cardData:\n",
    "        factor = SCORE_FACTOR[featureMethod]\n",
    "        \n",
    "        scores[i] = cardData[card][2] * factor\n",
    "        i = i + 1\n",
    "        \n",
    "    softMaxScores = softmax(scores)\n",
    "    softMaxValue = np.max(softMaxScores)\n",
    "    \n",
    "    print scores\n",
    "    print 'Softmax', softMaxValue\n",
    "    print jk\n",
    "    sortedNames = sorted(cardData, key=lambda x: cardData[x][2])\n",
    "    bestMatchCardName = sortedNames[len(sortedNames) - 1]\n",
    "    \n",
    "    cardData[bestMatchCardName][3] = softMaxValue\n",
    "    \n",
    "    return bestMatchCardName"
   ]
  },
  {
   "cell_type": "code",
   "execution_count": 108,
   "metadata": {
    "collapsed": false
   },
   "outputs": [],
   "source": [
    "def computeKeypoints(cardList, featureMethod):\n",
    "    cardData = {}\n",
    "    allDescriptors = None\n",
    "    cardIndex = []\n",
    "    \n",
    "    print 'Started computing keypoints for ', featureMethod\n",
    "    \n",
    "    for fileName, i in zip(cardList, range(0, len(cardList))):\n",
    "        img = cv2.imread(os.getcwd() + fileName)\n",
    "        img = img[36:174, 18:206]\n",
    "        img = prepareImage(img)\n",
    "        img = smoothImage(img)\n",
    "        \n",
    "        keypoints, descriptor = getKeypointsAndDescriptor(img, featureMethod)\n",
    "        \n",
    "        if allDescriptors is None:\n",
    "            allDescriptors = np.array(descriptor)\n",
    "        else:\n",
    "            allDescriptors = np.concatenate([allDescriptors, descriptor])\n",
    "            \n",
    "        for i in range(0, descriptor.shape[0]):\n",
    "            cardIndex.append(fileName)\n",
    "        # cardData[0] = keypoints\n",
    "        # cardData[1] = descriptor\n",
    "        # cardData[2] = similarityScore\n",
    "        # cardDate[3] = softMaxScore\n",
    "        cardData[fileName] = [keypoints, descriptor, 0, 0]\n",
    "        \n",
    "    print 'Finished computing keypoints for ', featureMethod\n",
    "    \n",
    "    return cardData, allDescriptors, cardIndex"
   ]
  },
  {
   "cell_type": "code",
   "execution_count": 145,
   "metadata": {
    "collapsed": true
   },
   "outputs": [],
   "source": [
    "def runTest(featureMethod, cardData, allDescriptors, cardIndex, testSet):\n",
    "    correctMatches = []\n",
    "    missClassified = []\n",
    "    lowConfidence = []\n",
    "    \n",
    "    for testCard in testSet:\n",
    "        resetScores(cardData)\n",
    "        \n",
    "        testCardImg = cv2.imread(os.getcwd() + testCard)\n",
    "        testCardImg = testCardImg[0:70, 0:85]\n",
    "        \n",
    "        bestMatch = findBestMatch(testCardImg, cardData, allDescriptors, cardIndex, featureMethod)\n",
    "        print bestMatch\n",
    "        "
   ]
  },
  {
   "cell_type": "code",
   "execution_count": 146,
   "metadata": {
    "collapsed": false
   },
   "outputs": [
    {
     "name": "stdout",
     "output_type": "stream",
     "text": [
      "Started computing keypoints for  orb\n",
      "Finished computing keypoints for  orb\n"
     ]
    }
   ],
   "source": [
    "dataOrb = computeKeypoints(cardList, METHOD_ORB)"
   ]
  },
  {
   "cell_type": "code",
   "execution_count": 147,
   "metadata": {
    "collapsed": false
   },
   "outputs": [],
   "source": [
    "testCards = loadSets()\n"
   ]
  },
  {
   "cell_type": "code",
   "execution_count": 154,
   "metadata": {
    "collapsed": false
   },
   "outputs": [
    {
     "name": "stdout",
     "output_type": "stream",
     "text": [
      "[ 0.  0.  0.  0.  0.  0.  0.  0.  0.  0.  0.  0.  0.  0.  0.  0.  0.  0.\n",
      "  0.  0.  0.  0.  0.  0.  0.  0.  0.  0.  0.  0.  0.  0.  0.  0.  0.  0.\n",
      "  0.  0.  0.  0.  0.  0.  0.  0.  0.  0.  0.  0.  0.  0.  0.  0.  0.  0.\n",
      "  0.  0.  0.  0.  0.  0.  0.  0.  0.  0.  0.  0.  0.  0.  0.  0.  0.  0.\n",
      "  0.  0.  0.  0.  0.  0.  0.  0.  0.  0.  0.  0.  0.  0.  0.  0.  0.  0.\n",
      "  0.  0.  0.  0.  0.  0.  0.  0.  0.  0.  0.  0.  0.  0.  0.  0.  0.  0.\n",
      "  0.  0.  0.  0.  0.  0.  0.  0.  0.  0.  0.  0.  0.  0.  0.  0.  0.  0.\n",
      "  0.  0.  0.  0.  0.  0.  0.  0.  0.  0.  0.  0.  0.  0.  0.  0.  0.  0.\n",
      "  0.  0.  0.  0.  0.  0.  0.  0.  0.  0.  0.  0.  0.  0.  0.  0.  0.  0.\n",
      "  0.  0.  0.  0.  0.  0.  0.  0.  0.  0.  0.  0.  0.  0.  0.  0.  0.  0.\n",
      "  0.  0.  0.  0.  0.  0.  0.  0.  0.  0.  0.  0.  0.  0.  0.  0.  0.  0.\n",
      "  0.  0.  0.  0.  0.  0.  0.  0.  0.  0.  0.  0.  0.  0.  0.  0.  0.  0.\n",
      "  0.  0.  0.  0.  0.  0.  0.  0.  0.  0.  0.  0.  0.  0.  0.  0.  0.  0.\n",
      "  0.  0.  0.  0.  0.  0.  0.  0.  0.  0.  0.  0.  0.  0.  0.  0.  0.  0.\n",
      "  0.  0.  0.  0.  0.  0.  0.  0.  0.  0.  0.  0.  0.  0.  0.  0.  0.  0.\n",
      "  0.  0.  0.  0.  0.]\n",
      "Softmax 0.00363636363636\n"
     ]
    },
    {
     "ename": "NameError",
     "evalue": "global name 'jk' is not defined",
     "output_type": "error",
     "traceback": [
      "\u001b[1;31m---------------------------------------------------------------------------\u001b[0m",
      "\u001b[1;31mNameError\u001b[0m                                 Traceback (most recent call last)",
      "\u001b[1;32m<ipython-input-154-cb1b16f52ad7>\u001b[0m in \u001b[0;36m<module>\u001b[1;34m()\u001b[0m\n\u001b[1;32m----> 1\u001b[1;33m \u001b[0mrunTest\u001b[0m\u001b[1;33m(\u001b[0m\u001b[0mMETHOD_ORB\u001b[0m\u001b[1;33m,\u001b[0m \u001b[0mdataOrb\u001b[0m\u001b[1;33m[\u001b[0m\u001b[1;36m0\u001b[0m\u001b[1;33m]\u001b[0m\u001b[1;33m,\u001b[0m \u001b[0mdataOrb\u001b[0m\u001b[1;33m[\u001b[0m\u001b[1;36m1\u001b[0m\u001b[1;33m]\u001b[0m\u001b[1;33m,\u001b[0m \u001b[0mdataOrb\u001b[0m\u001b[1;33m[\u001b[0m\u001b[1;36m2\u001b[0m\u001b[1;33m]\u001b[0m\u001b[1;33m,\u001b[0m \u001b[0mtestCards\u001b[0m\u001b[1;33m)\u001b[0m\u001b[1;33m\u001b[0m\u001b[0m\n\u001b[0m",
      "\u001b[1;32m<ipython-input-145-197b996977c0>\u001b[0m in \u001b[0;36mrunTest\u001b[1;34m(featureMethod, cardData, allDescriptors, cardIndex, testSet)\u001b[0m\n\u001b[0;32m     10\u001b[0m         \u001b[0mtestCardImg\u001b[0m \u001b[1;33m=\u001b[0m \u001b[0mtestCardImg\u001b[0m\u001b[1;33m[\u001b[0m\u001b[1;36m0\u001b[0m\u001b[1;33m:\u001b[0m\u001b[1;36m70\u001b[0m\u001b[1;33m,\u001b[0m \u001b[1;36m0\u001b[0m\u001b[1;33m:\u001b[0m\u001b[1;36m85\u001b[0m\u001b[1;33m]\u001b[0m\u001b[1;33m\u001b[0m\u001b[0m\n\u001b[0;32m     11\u001b[0m \u001b[1;33m\u001b[0m\u001b[0m\n\u001b[1;32m---> 12\u001b[1;33m         \u001b[0mbestMatch\u001b[0m \u001b[1;33m=\u001b[0m \u001b[0mfindBestMatch\u001b[0m\u001b[1;33m(\u001b[0m\u001b[0mtestCardImg\u001b[0m\u001b[1;33m,\u001b[0m \u001b[0mcardData\u001b[0m\u001b[1;33m,\u001b[0m \u001b[0mallDescriptors\u001b[0m\u001b[1;33m,\u001b[0m \u001b[0mcardIndex\u001b[0m\u001b[1;33m,\u001b[0m \u001b[0mfeatureMethod\u001b[0m\u001b[1;33m)\u001b[0m\u001b[1;33m\u001b[0m\u001b[0m\n\u001b[0m\u001b[0;32m     13\u001b[0m         \u001b[1;32mprint\u001b[0m \u001b[0mbestMatch\u001b[0m\u001b[1;33m\u001b[0m\u001b[0m\n\u001b[0;32m     14\u001b[0m \u001b[1;33m\u001b[0m\u001b[0m\n",
      "\u001b[1;32m<ipython-input-153-c48ac510e4ba>\u001b[0m in \u001b[0;36mfindBestMatch\u001b[1;34m(cardImg, cardData, allDescriptors, cardIndex, featureMethod)\u001b[0m\n\u001b[0;32m     20\u001b[0m     \u001b[1;32mprint\u001b[0m \u001b[0mscores\u001b[0m\u001b[1;33m\u001b[0m\u001b[0m\n\u001b[0;32m     21\u001b[0m     \u001b[1;32mprint\u001b[0m \u001b[1;34m'Softmax'\u001b[0m\u001b[1;33m,\u001b[0m \u001b[0msoftMaxValue\u001b[0m\u001b[1;33m\u001b[0m\u001b[0m\n\u001b[1;32m---> 22\u001b[1;33m     \u001b[1;32mprint\u001b[0m \u001b[0mjk\u001b[0m\u001b[1;33m\u001b[0m\u001b[0m\n\u001b[0m\u001b[0;32m     23\u001b[0m     \u001b[0msortedNames\u001b[0m \u001b[1;33m=\u001b[0m \u001b[0msorted\u001b[0m\u001b[1;33m(\u001b[0m\u001b[0mcardData\u001b[0m\u001b[1;33m,\u001b[0m \u001b[0mkey\u001b[0m\u001b[1;33m=\u001b[0m\u001b[1;32mlambda\u001b[0m \u001b[0mx\u001b[0m\u001b[1;33m:\u001b[0m \u001b[0mcardData\u001b[0m\u001b[1;33m[\u001b[0m\u001b[0mx\u001b[0m\u001b[1;33m]\u001b[0m\u001b[1;33m[\u001b[0m\u001b[1;36m2\u001b[0m\u001b[1;33m]\u001b[0m\u001b[1;33m)\u001b[0m\u001b[1;33m\u001b[0m\u001b[0m\n\u001b[0;32m     24\u001b[0m     \u001b[0mbestMatchCardName\u001b[0m \u001b[1;33m=\u001b[0m \u001b[0msortedNames\u001b[0m\u001b[1;33m[\u001b[0m\u001b[0mlen\u001b[0m\u001b[1;33m(\u001b[0m\u001b[0msortedNames\u001b[0m\u001b[1;33m)\u001b[0m \u001b[1;33m-\u001b[0m \u001b[1;36m1\u001b[0m\u001b[1;33m]\u001b[0m\u001b[1;33m\u001b[0m\u001b[0m\n",
      "\u001b[1;31mNameError\u001b[0m: global name 'jk' is not defined"
     ]
    }
   ],
   "source": [
    "runTest(METHOD_ORB, dataOrb[0], dataOrb[1], dataOrb[2], testCards)"
   ]
  },
  {
   "cell_type": "code",
   "execution_count": null,
   "metadata": {
    "collapsed": true
   },
   "outputs": [],
   "source": []
  }
 ],
 "metadata": {
  "kernelspec": {
   "display_name": "Python 2",
   "language": "python",
   "name": "python2"
  },
  "language_info": {
   "codemirror_mode": {
    "name": "ipython",
    "version": 2
   },
   "file_extension": ".py",
   "mimetype": "text/x-python",
   "name": "python",
   "nbconvert_exporter": "python",
   "pygments_lexer": "ipython2",
   "version": "2.7.12"
  }
 },
 "nbformat": 4,
 "nbformat_minor": 0
}
