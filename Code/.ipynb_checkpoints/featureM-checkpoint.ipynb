{
 "cells": [
  {
   "cell_type": "code",
   "execution_count": 1,
   "metadata": {
    "collapsed": false
   },
   "outputs": [
    {
     "name": "stdout",
     "output_type": "stream",
     "text": [
      "Populating the interactive namespace from numpy and matplotlib\n"
     ]
    }
   ],
   "source": [
    "%pylab inline"
   ]
  },
  {
   "cell_type": "code",
   "execution_count": 2,
   "metadata": {
    "collapsed": false
   },
   "outputs": [
    {
     "name": "stdout",
     "output_type": "stream",
     "text": [
      "Populating the interactive namespace from numpy and matplotlib\n"
     ]
    }
   ],
   "source": [
    "import numpy as np\n",
    "import matplotlib.pyplot as plt\n",
    "import cv2\n",
    "import os\n",
    "from skimage import io\n",
    "from skimage import transform, filters, color\n",
    "import operator\n",
    "import dataAugmentation as da"
   ]
  },
  {
   "cell_type": "code",
   "execution_count": 3,
   "metadata": {
    "collapsed": true
   },
   "outputs": [],
   "source": [
    "def drawMatches(img1, kp1, img2, kp2, matches):\n",
    "    \"\"\"\n",
    "    My own implementation of cv2.drawMatches as OpenCV 2.4.9\n",
    "    does not have this function available but it's supported in\n",
    "    OpenCV 3.0.0\n",
    "\n",
    "    This function takes in two images with their associated \n",
    "    keypoints, as well as a list of DMatch data structure (matches) \n",
    "    that contains which keypoints matched in which images.\n",
    "\n",
    "    An image will be produced where a montage is shown with\n",
    "    the first image followed by the second image beside it.\n",
    "\n",
    "    Keypoints are delineated with circles, while lines are connected\n",
    "    between matching keypoints.\n",
    "\n",
    "    img1,img2 - Grayscale images\n",
    "    kp1,kp2 - Detected list of keypoints through any of the OpenCV keypoint \n",
    "              detection algorithms\n",
    "    matches - A list of matches of corresponding keypoints through any\n",
    "              OpenCV keypoint matching algorithm\n",
    "    \"\"\"\n",
    "\n",
    "    # Create a new output image that concatenates the two images together\n",
    "    # (a.k.a) a montage\n",
    "    rows1 = img1.shape[0]\n",
    "    cols1 = img1.shape[1]\n",
    "    rows2 = img2.shape[0]\n",
    "    cols2 = img2.shape[1]\n",
    "\n",
    "    out = np.zeros((max([rows1,rows2]),cols1+cols2,3), dtype='uint8')\n",
    "\n",
    "    # Place the first image to the left\n",
    "    out[:rows1,:cols1] = np.dstack([img1, img1, img1])\n",
    "\n",
    "    # Place the next image to the right of it\n",
    "    out[:rows2,cols1:] = np.dstack([img2, img2, img2])\n",
    "\n",
    "    # For each pair of points we have between both images\n",
    "    # draw circles, then connect a line between them\n",
    "    for mat in matches:\n",
    "\n",
    "        # Get the matching keypoints for each of the images\n",
    "        img1_idx = mat.queryIdx\n",
    "        img2_idx = mat.trainIdx\n",
    "\n",
    "        # x - columns\n",
    "        # y - rows\n",
    "        (x1,y1) = kp1[img1_idx].pt\n",
    "        (x2,y2) = kp2[img2_idx].pt\n",
    "\n",
    "        # Draw a small circle at both co-ordinates\n",
    "        # radius 4\n",
    "        # colour blue\n",
    "        # thickness = 1\n",
    "        cv2.circle(out, (int(x1),int(y1)), 4, (255, 0, 0), 1)   \n",
    "        cv2.circle(out, (int(x2)+cols1,int(y2)), 4, (255, 0, 0), 1)\n",
    "\n",
    "        # Draw a line in between the two points\n",
    "        # thickness = 1\n",
    "        # colour blue\n",
    "        cv2.line(out, (int(x1),int(y1)), (int(x2)+cols1,int(y2)), (255, 0, 0), 1)\n",
    "\n",
    "\n",
    "    # Show the image\n",
    "    #cv2.imshow('Matched Features', out)\n",
    "    #cv2.waitKey(0)\n",
    "    #cv2.destroyWindow('Matched Features')\n",
    "\n",
    "    # Also return the image if you'd like a copy\n",
    "    return out\n"
   ]
  },
  {
   "cell_type": "code",
   "execution_count": 4,
   "metadata": {
    "collapsed": true
   },
   "outputs": [],
   "source": [
    "def smoothImage(image):\n",
    "    #kernel = np.ones((5, 5), np.float32) / 25\n",
    "    #return cv2.filter2D(image, -1, kernel)\n",
    "    return cv2.GaussianBlur(image,(5,5),0)"
   ]
  },
  {
   "cell_type": "code",
   "execution_count": null,
   "metadata": {
    "collapsed": false
   },
   "outputs": [],
   "source": []
  },
  {
   "cell_type": "code",
   "execution_count": 5,
   "metadata": {
    "collapsed": true
   },
   "outputs": [],
   "source": [
    "def addSetToList(files, name):\n",
    "    files.extend(map(lambda x: '/data/img/' + name + '/' + x, [f for f in os.listdir(os.getcwd() + '/data/img/' + name) if os.path.isfile(os.path.join(os.getcwd() + '/data/img/' + name, f))]))\n"
   ]
  },
  {
   "cell_type": "code",
   "execution_count": 6,
   "metadata": {
    "collapsed": true
   },
   "outputs": [],
   "source": [
    "def similarityScore(matches):\n",
    "    score = 0\n",
    "    for match in matches:\n",
    "        score += (1 / (match.distance ** 2))\n",
    "    return score"
   ]
  },
  {
   "cell_type": "code",
   "execution_count": 110,
   "metadata": {
    "collapsed": true
   },
   "outputs": [],
   "source": [
    "def prepareImage(image):\n",
    "    image =  cv2.resize(image, (128, 128), interpolation = cv2.INTER_CUBIC)\n",
    "    image = cv2.cvtColor(image, cv2.COLOR_BGR2GRAY)\n",
    "    return image\n",
    "    "
   ]
  },
  {
   "cell_type": "code",
   "execution_count": 8,
   "metadata": {
    "collapsed": false
   },
   "outputs": [],
   "source": [
    "orb = cv2.ORB()\n",
    "sift = cv2.SIFT()\n",
    "surf = cv2.SURF(400)"
   ]
  },
  {
   "cell_type": "code",
   "execution_count": 9,
   "metadata": {
    "collapsed": true
   },
   "outputs": [],
   "source": [
    "def findMatches(descriptor1, descriptor2, featureMethod):\n",
    "    if(featureMethod == 'orb'):\n",
    "        bf = cv2.BFMatcher(cv2.NORM_HAMMING)\n",
    "        return bf.knnMatch(descriptor1, descriptor2, k=2)\n",
    "    if(featureMethod == 'sift'):\n",
    "        FLANN_INDEX_KDTREE = 0\n",
    "        index_params = dict(algorithm = FLANN_INDEX_KDTREE, trees = 5)\n",
    "        search_params = dict(checks=50)   # or pass empty dictionary\n",
    "\n",
    "        flann = cv2.FlannBasedMatcher(index_params,search_params)\n",
    "\n",
    "        return flann.knnMatch(descriptor1,descriptor2,k=2)\n",
    "    elif(featureMethod == 'surf'):\n",
    "        FLANN_INDEX_KDTREE = 0\n",
    "        index_params = dict(algorithm = FLANN_INDEX_KDTREE, trees = 5)\n",
    "        search_params = dict(checks=50)   # or pass empty dictionary\n",
    "\n",
    "        flann = cv2.FlannBasedMatcher(index_params,search_params)\n",
    "\n",
    "        return flann.knnMatch(descriptor1,descriptor2,k=2)"
   ]
  },
  {
   "cell_type": "code",
   "execution_count": 10,
   "metadata": {
    "collapsed": false
   },
   "outputs": [],
   "source": [
    "def getKeypointsAndDescriptor(img, featureMethod):\n",
    "    if(featureMethod == 'orb'):\n",
    "        return orb.detectAndCompute(img, None)\n",
    "    elif(featureMethod == 'sift'):\n",
    "        return sift.detectAndCompute(img, None)\n",
    "    elif(featureMethod == 'surf'):\n",
    "        return surf.detectAndCompute(img, None)"
   ]
  },
  {
   "cell_type": "code",
   "execution_count": 111,
   "metadata": {
    "collapsed": false
   },
   "outputs": [],
   "source": [
    "def computeKeypoints(cardList, featureMethod):\n",
    "    cardData = {}\n",
    "    allDescriptors = None\n",
    "    cardIndex = []\n",
    "    \n",
    "    \n",
    "    print \"Started computing keypoints for \", featureMethod\n",
    "\n",
    "    for fileName, i  in zip(cardList, range(0, len(cardList))):\n",
    "        img = cv2.imread(os.getcwd() + fileName)\n",
    "        #img = img[36:174, 18:206]\n",
    "        #img =  cv2.resize(img, (85, 120), interpolation = cv2.INTER_CUBIC)\n",
    "        #img = img[0:70, 0:85]\n",
    "        img = prepareImage(img)\n",
    "        img = smoothImage(img)\n",
    "\n",
    "        keypoints, descriptor = getKeypointsAndDescriptor(img, featureMethod)\n",
    "\n",
    "        \n",
    "        if allDescriptors is None:\n",
    "            allDescriptors = np.array(descriptor)\n",
    "        else:\n",
    "            allDescriptors = np.concatenate([allDescriptors, descriptor])\n",
    "            \n",
    "        \n",
    "            \n",
    "        for i in range(0, descriptor.shape[0]):\n",
    "            cardIndex.append(fileName)\n",
    "            \n",
    "        directory = os.getcwd() + '/data/generated/' + os.path.basename(fileName).split('.')[0]\n",
    "        # Remove the 'and False' to also load the extended trainingset\n",
    "        if os.path.exists(directory)  and False:\n",
    "            files = os.listdir(directory)\n",
    "            \n",
    "            for generatedFile in files:\n",
    "                print generatedFile\n",
    "                testCardImg = cv2.imread(os.getcwd() + '/data/generated/' + os.path.basename(fileName).split('.')[0] + '/' + generatedFile)\n",
    "                testCardImg = testCardImg[0:70, 0:85]\n",
    "                \n",
    "                testCardImg = prepareImage(testCardImg)\n",
    "                kp, des = getKeypointsAndDescriptor(testCardImg, featureMethod)\n",
    "                \n",
    "                allDescriptors = np.concatenate([allDescriptors, des])\n",
    "                \n",
    "                for i in range(0, des.shape[0]):\n",
    "                    cardIndex.append(fileName)\n",
    "                \n",
    "        # cardData[0] = keypoints\n",
    "        # cardData[1] = descriptor\n",
    "        # cardData[2] = similarityScore\n",
    "        # cardDate[3] = softMaxScore\n",
    "        cardData[fileName] = [keypoints, descriptor, 0, 0]\n",
    "\n",
    "    print \"Finished computing keypoints for\", featureMethod\n",
    "    \n",
    "    return cardData, allDescriptors, cardIndex"
   ]
  },
  {
   "cell_type": "code",
   "execution_count": null,
   "metadata": {
    "collapsed": false
   },
   "outputs": [],
   "source": []
  },
  {
   "cell_type": "code",
   "execution_count": null,
   "metadata": {
    "collapsed": false
   },
   "outputs": [],
   "source": []
  },
  {
   "cell_type": "code",
   "execution_count": null,
   "metadata": {
    "collapsed": false
   },
   "outputs": [],
   "source": []
  },
  {
   "cell_type": "code",
   "execution_count": 12,
   "metadata": {
    "collapsed": false
   },
   "outputs": [],
   "source": [
    "def getCardScores(descriptor, allDescriptors, cardData, cardIndex, method):\n",
    "    matches =  findGoodMatches(descriptor, allDescriptors, method)\n",
    "    \n",
    "    for match in matches:\n",
    "        cardData[cardIndex[match.trainIdx]][2] += (1 / (match.distance ** 2))\n",
    "    "
   ]
  },
  {
   "cell_type": "code",
   "execution_count": 13,
   "metadata": {
    "collapsed": true
   },
   "outputs": [],
   "source": [
    "def resetScores(cardData):\n",
    "    for name in cardData:\n",
    "        cardData[name][2] = 0"
   ]
  },
  {
   "cell_type": "code",
   "execution_count": 14,
   "metadata": {
    "collapsed": true
   },
   "outputs": [],
   "source": [
    "def findGoodMatches(descriptor1, descriptor2, featureMethod):\n",
    "    matches = findMatches(descriptor1, descriptor2, featureMethod)\n",
    "    \n",
    "    goodMatches = []\n",
    "\n",
    "    for i in range(0, len(matches)):\n",
    "        # We only want matches between two descriptors\n",
    "        if(len(matches[i]) == 2):\n",
    "            m = matches[i][0]\n",
    "            n = matches[i][1]\n",
    "            #D.Lowe's ratio test \n",
    "            if m.distance < 1 * n.distance:\n",
    "                goodMatches.append(m)\n",
    "    return goodMatches"
   ]
  },
  {
   "cell_type": "code",
   "execution_count": 15,
   "metadata": {
    "collapsed": false
   },
   "outputs": [],
   "source": [
    "def compareAndScoreDescriptors(descriptor1, descriptor2, featureMethod):\n",
    "    goodMatches = findGoodMatches(descriptor1, descriptor2, featureMethod)\n",
    "    \n",
    "    return similarityScore(goodMatches)"
   ]
  },
  {
   "cell_type": "code",
   "execution_count": 16,
   "metadata": {
    "collapsed": true
   },
   "outputs": [],
   "source": [
    "def softmax(x):\n",
    "    \"\"\"Compute softmax values for each sets of scores in x.\"\"\"\n",
    "    return np.exp(x) / np.sum(np.exp(x), axis=0)"
   ]
  },
  {
   "cell_type": "code",
   "execution_count": 99,
   "metadata": {
    "collapsed": false,
    "scrolled": true
   },
   "outputs": [],
   "source": [
    "def findBestMatch(cardImg, cardData, allDescriptors, cardIndex, featureMethod, realName, testName):\n",
    "    cardImg = prepareImage(cardImg)\n",
    "    \n",
    "    keypoints, descriptor = getKeypointsAndDescriptor(cardImg, featureMethod)\n",
    "    \n",
    "    print 'Keypoints count:', len(keypoints)\n",
    "    namedScores = {}\n",
    "    \n",
    "    scores = np.zeros((len(cardData)))\n",
    "    i = 0\n",
    "    \n",
    "    getCardScores(descriptor, allDescriptors, cardData, cardIndex, featureMethod)\n",
    "\n",
    "    for card  in cardData:\n",
    "        factor = 0\n",
    "        if featureMethod == 'orb':\n",
    "            factor = 1500\n",
    "        elif featureMethod == 'surf':\n",
    "            factor = 0.1\n",
    "        elif featureMethod == 'sift':\n",
    "            factor = 15000\n",
    "        scores[i] = cardData[card][2] * factor\n",
    "        i = i + 1\n",
    "    \n",
    "    softMaxScores = softmax(scores)\n",
    "    \n",
    "    #print scores\n",
    "    #print softMaxScores\n",
    "    \n",
    "    \n",
    "    softMaxValue = np.max(softMaxScores)\n",
    "    #print 'Softmax', softMaxValue\n",
    "    \n",
    "    \n",
    "    sortedNames = sorted(cardData, key=lambda x: cardData[x][2])\n",
    "    #sortedNames = sorted(namedScores, key=namedScores.get)\n",
    "\n",
    "    bestMatchCardName = sortedNames[len(sortedNames) - 1]\n",
    "    bestMatch = cardData[bestMatchCardName]\n",
    "    #print  \"[\", featureMethod , \"] Best Match: \", os.path.basename(bestMatchCardName) , \" Score: \",  bestMatch[2]\n",
    "    \n",
    "    \n",
    "    cardData[bestMatchCardName][3] = softMaxValue\n",
    "    \n",
    "    if os.path.basename(bestMatchCardName.split(\".\")[0]) != realName and realName != 'liveVid':\n",
    "\n",
    "\n",
    "        bestMatchImg = cv2.imread(os.getcwd() + bestMatchCardName)\n",
    "        bestMatchImg = bestMatchImg[36:174, 18:206]\n",
    "        bestMatchImg = prepareImage(bestMatchImg)\n",
    "        bestMatchImg = smoothImage(bestMatchImg)\n",
    "\n",
    "        matches = findGoodMatches(descriptor, cardData[bestMatchCardName][1], featureMethod)\n",
    "\n",
    "        plt.fig = plt.figure(figsize= (20,20))\n",
    "        #io.imshow(drawMatches(cardImg, keypoints, bestMatchImg, cardData[bestMatchCardName][0], matches))\n",
    "        io.imsave(os.getcwd() + '/data/outlier/' + featureMethod + '/' + testName, drawMatches(cardImg, keypoints, bestMatchImg, cardData[bestMatchCardName][0], matches))\n",
    "    if realName == 'liveVid':\n",
    "        return bestMatchCardName, softMaxValue\n",
    "    return  os.path.basename(bestMatchCardName.split(\".\")[0])"
   ]
  },
  {
   "cell_type": "code",
   "execution_count": 18,
   "metadata": {
    "collapsed": true
   },
   "outputs": [],
   "source": [
    "def findBestMatchOrb(cardImg):\n",
    "    cardData = cardDataOrb\n",
    "    descriptors = desciptorsOrb\n",
    "    cardIndex = indexOrb\n",
    "    \n",
    "    testCardImg = cardImg[0:70, 0:85]\n",
    "    resetScores(cardData)\n",
    "        \n",
    "    bestMatchName = findBestMatch(testCardImg, cardData, descriptors, cardIndex, 'orb', 'liveVid', '')\n",
    "    \n",
    "    return bestMatchName\n"
   ]
  },
  {
   "cell_type": "code",
   "execution_count": 19,
   "metadata": {
    "collapsed": false
   },
   "outputs": [],
   "source": [
    "def runTest(featureMethod, testSet):\n",
    "    cardData = {}\n",
    "    descriptors = []\n",
    "    cardIndex = {}\n",
    "    \n",
    "    if(featureMethod == 'orb'):\n",
    "        cardData = cardDataOrb\n",
    "        descriptors = desciptorsOrb\n",
    "        cardIndex = indexOrb\n",
    "    elif(featureMethod == 'sift'):\n",
    "        cardData = cardDataSift\n",
    "        descriptors = descriptorsSift\n",
    "        cardIndex = indexSift\n",
    "    elif(featureMethod == 'surf'):\n",
    "        cardData = cardDatSurf\n",
    "        descriptors = desciptorsSurf\n",
    "        cardIndex = indexSurf\n",
    "        \n",
    "    correctMatches = []\n",
    "    missClassified = []\n",
    "    lowConfidence = []\n",
    "\n",
    "    for testCard in testSet:\n",
    "        testCardImg = cv2.imread(os.getcwd() + testCard)\n",
    "        testCardImg = testCardImg[0:70, 0:85]\n",
    "\n",
    "        #print \"Finding match for: \", os.path.basename(testCard)\n",
    "        resetScores(cardData)\n",
    "        \n",
    "        bestMatchName = findBestMatch(testCardImg, cardData, descriptors, cardIndex, featureMethod, os.path.basename(testCard.split('.')[0].split(\"[\")[0]), os.path.basename(testCard))\n",
    "\n",
    "        softMaxValue = cardData['/data/img/KLD/' + bestMatchName  + '.png'][3]\n",
    "        \n",
    "        if softMaxValue < 0.05:\n",
    "            #print 'Too low confidence'\n",
    "            lowConfidence.append((bestMatchName, os.path.basename(testCard.split('.')[0].split(\"[\")[0]), cardData['/data/img/KLD/' + bestMatchName  + '.png'][3]))\n",
    "        else:\n",
    "            if(bestMatchName == os.path.basename(testCard.split('.')[0].split(\"[\")[0])):\n",
    "                correctMatches.append((bestMatchName, os.path.basename(testCard.split('.')[0].split(\"[\")[0]), cardData['/data/img/KLD/' + bestMatchName  + '.png'][3]))\n",
    "            else:\n",
    "                missClassified.append((bestMatchName, os.path.basename(testCard.split('.')[0].split(\"[\")[0]), cardData['/data/img/KLD/' + bestMatchName  + '.png'][3]))\n",
    "\n",
    "\n",
    "        #print \"_____\"\n",
    "\n",
    "    print \"Classified \", len(correctMatches), \" of \", len(testSet), \" correctly\"\n",
    "    print \"Classified \", len(missClassified), \" of \", len(testSet), \" falsy\"\n",
    "    print \"Classified \", len(lowConfidence), \" of \", len(testSet), \"  with to low confidence\"\n",
    "\n",
    "    return correctMatches, missClassified, lowConfidence\n"
   ]
  },
  {
   "cell_type": "code",
   "execution_count": 20,
   "metadata": {
    "collapsed": false
   },
   "outputs": [],
   "source": [
    "def showPrettyResult(result):\n",
    "    sizeTestSet = len(result[0]) + len(result[1]) + len(result[2])\n",
    "    print 'Correctly classified ', len(result[0]), 'of ', sizeTestSet\n",
    "    print 'Falsly classified ', len(result[1]), 'of ', sizeTestSet\n",
    "    print 'To low confidence for ', len(result[2]), 'of ', sizeTestSet\n",
    "    \n",
    "    \n",
    "    lowConfCorrect = 0\n",
    "    lowConfFalse = 0\n",
    "    for sample in result[2]:\n",
    "        if(sample[0] == sample[1]):\n",
    "            lowConfCorrect += 1\n",
    "        else:\n",
    "            lowConfFalse += 1\n",
    "    print 'Of those low confidence cases ', lowConfCorrect, ' would have been correctly classified'\n",
    "    print 'Of those low confidence cases ', lowConfFalse, ' would have been falsely classified'\n",
    "    \n"
   ]
  },
  {
   "cell_type": "code",
   "execution_count": 21,
   "metadata": {
    "collapsed": false
   },
   "outputs": [],
   "source": [
    "def showConfidenceHistogramm(result):\n",
    "    values = []\n",
    "    \n",
    "    for element in result[0]:\n",
    "        values.append(element[2])\n",
    "    \n",
    "\n",
    "    \n",
    "    print 'Avergae: ', np.average(values)\n",
    "    \n",
    "    plt.hist(values, 50, normed=True)"
   ]
  },
  {
   "cell_type": "code",
   "execution_count": 22,
   "metadata": {
    "collapsed": true
   },
   "outputs": [],
   "source": [
    "def showConfidenceHistogrammWrongClassified(result):\n",
    "    values = []\n",
    "    \n",
    "    for element in result[1]:\n",
    "        values.append(element[2])\n",
    "    \n",
    "    for element in result[2]:\n",
    "        if element[0] != element[1]:\n",
    "            print element[2]\n",
    "            values.append(element[2])\n",
    "\n",
    "    \n",
    "    print 'Avergae: ', np.average(values)\n",
    "    \n",
    "    plt.hist(values, 50, normed=True)"
   ]
  },
  {
   "cell_type": "code",
   "execution_count": 23,
   "metadata": {
    "collapsed": true
   },
   "outputs": [],
   "source": [
    "def addFolderToSet(testSet, folderName):\n",
    "    testSet.extend(map(lambda x: '/data/' + folderName + x, [f for f in os.listdir(os.getcwd() + '/data/' + folderName) if os.path.isfile(os.path.join(os.getcwd() + '/data/' + folderName, f))]))"
   ]
  },
  {
   "cell_type": "code",
   "execution_count": 24,
   "metadata": {
    "collapsed": true
   },
   "outputs": [],
   "source": [
    "# A list of the shorthand codes for all sets currently in the Standard format.\n",
    "\n",
    "#SETS_IN_STANDARD = [\"BFZ\", \"OGW\", \"SOI\", \"EMN\", \"KLD\"]\n",
    "SETS_IN_STANDARD = [\"KLD\"]\n",
    "\n",
    "cardList = []\n",
    "\n",
    "for setCode in SETS_IN_STANDARD:\n",
    "    addSetToList(cardList, setCode)\n"
   ]
  },
  {
   "cell_type": "code",
   "execution_count": 44,
   "metadata": {
    "collapsed": false
   },
   "outputs": [],
   "source": [
    "def sumUpResult(result):\n",
    "    correct = [0, 0, 0]\n",
    "    \n",
    "    for i in range(0, 10):\n",
    "        for j in range(0, 3):\n",
    "            correct[j] += len(result[i][j][0])\n",
    "            for element in result[i][j][2]:\n",
    "                if element[0] == element[1]:\n",
    "                    correct[j] += 1\n",
    "\n",
    "    return correct"
   ]
  },
  {
   "cell_type": "code",
   "execution_count": 112,
   "metadata": {
    "collapsed": false
   },
   "outputs": [
    {
     "name": "stdout",
     "output_type": "stream",
     "text": [
      "Started computing keypoints for  orb\n",
      "Finished computing keypoints for orb\n"
     ]
    }
   ],
   "source": [
    "cardDataOrb, desciptorsOrb, indexOrb = computeKeypoints(cardList, 'orb')\n",
    "cardDataSift, descriptorsSift, indexSift = computeKeypoints(cardList, 'sift')\n",
    "cardDatSurf, desciptorsSurf, indexSurf = computeKeypoints(cardList, 'surf')\n"
   ]
  },
  {
   "cell_type": "code",
   "execution_count": 26,
   "metadata": {
    "collapsed": false
   },
   "outputs": [],
   "source": [
    "testSetNoDistortion = []\n",
    "\n",
    "addFolderToSet(testSetNoDistortion, 'testSet/')\n",
    "\n",
    "testSetRotation = []\n",
    "\n",
    "addFolderToSet(testSetRotation, 'testSet/DISTORT_ROTATION/')\n",
    "\n",
    "testSetGamma = []\n",
    "\n",
    "addFolderToSet(testSetGamma, 'testSet/DISTORT_GAMMA/')\n",
    "\n",
    "testSetGammaRotation = []\n",
    "\n",
    "addFolderToSet(testSetGammaRotation, 'testSet/DISTORT_GAMMADISTORT_ROTATION/')\n",
    "\n",
    "\n"
   ]
  },
  {
   "cell_type": "code",
   "execution_count": 46,
   "metadata": {
    "collapsed": false
   },
   "outputs": [
    {
     "name": "stderr",
     "output_type": "stream",
     "text": [
      "/home/jojo/.local/lib/python2.7/site-packages/ipykernel/__main__.py:3: RuntimeWarning: overflow encountered in exp\n",
      "  app.launch_new_instance()\n",
      "/home/jojo/.local/lib/python2.7/site-packages/ipykernel/__main__.py:3: RuntimeWarning: invalid value encountered in divide\n",
      "  app.launch_new_instance()\n"
     ]
    },
    {
     "name": "stdout",
     "output_type": "stream",
     "text": [
      "Classified  293  of  300  correctly\n",
      "Classified  1  of  300  falsy\n",
      "Classified  6  of  300   with to low confidence\n",
      "56.3828930855\n"
     ]
    },
    {
     "data": {
      "text/plain": [
       "<matplotlib.figure.Figure at 0x7f9785755ad0>"
      ]
     },
     "metadata": {},
     "output_type": "display_data"
    },
    {
     "data": {
      "text/plain": [
       "<matplotlib.figure.Figure at 0x7f9782fdd810>"
      ]
     },
     "metadata": {},
     "output_type": "display_data"
    },
    {
     "data": {
      "text/plain": [
       "<matplotlib.figure.Figure at 0x7f97830f7050>"
      ]
     },
     "metadata": {},
     "output_type": "display_data"
    },
    {
     "data": {
      "text/plain": [
       "<matplotlib.figure.Figure at 0x7f978329ebd0>"
      ]
     },
     "metadata": {},
     "output_type": "display_data"
    },
    {
     "data": {
      "text/plain": [
       "<matplotlib.figure.Figure at 0x7f97833a6950>"
      ]
     },
     "metadata": {},
     "output_type": "display_data"
    },
    {
     "data": {
      "text/plain": [
       "<matplotlib.figure.Figure at 0x7f9783518090>"
      ]
     },
     "metadata": {},
     "output_type": "display_data"
    },
    {
     "data": {
      "text/plain": [
       "<matplotlib.figure.Figure at 0x7f9780603e10>"
      ]
     },
     "metadata": {},
     "output_type": "display_data"
    }
   ],
   "source": [
    "import time\n",
    "\n",
    "startTime = time.time()\n",
    "orbResultRotation = runTest('orb', testSetRotation)\n",
    "print time.time() - startTime"
   ]
  },
  {
   "cell_type": "code",
   "execution_count": 120,
   "metadata": {
    "collapsed": false
   },
   "outputs": [
    {
     "name": "stdout",
     "output_type": "stream",
     "text": [
      "Keypoints count: 59\n",
      "Keypoints count: 49\n",
      "Keypoints count: 30\n",
      "Keypoints count: 23\n",
      "Keypoints count: 49\n",
      "Keypoints count: 58\n",
      "Keypoints count: 36\n",
      "Keypoints count: 47\n",
      "Keypoints count: 116\n",
      "Keypoints count: 81\n",
      "Keypoints count: 54\n",
      "Keypoints count: 69\n",
      "Keypoints count: 38\n",
      "Keypoints count: 40\n",
      "Keypoints count: 31\n",
      "Keypoints count: 68\n",
      "Keypoints count: 35\n",
      "Keypoints count: 124\n",
      "Keypoints count: 43\n",
      "Keypoints count: 78\n",
      "Keypoints count: 96\n",
      "Keypoints count: 42\n",
      "Keypoints count: 70\n",
      "Keypoints count: 61\n",
      "Keypoints count: 77\n",
      "Keypoints count: 86\n",
      "Keypoints count: 8\n",
      "Keypoints count: 34\n",
      "Keypoints count: 101\n",
      "Keypoints count: 62\n",
      "Keypoints count: 35\n",
      "Keypoints count: 7\n",
      "Keypoints count: 67\n",
      "Keypoints count: 43\n",
      "Keypoints count: 65\n",
      "Keypoints count: 25\n",
      "Keypoints count: 61\n",
      "Keypoints count: 176\n",
      "Keypoints count: 58\n",
      "Keypoints count: 28\n",
      "Keypoints count: 4\n",
      "Keypoints count: 92\n",
      "Keypoints count: 39\n",
      "Keypoints count: 32\n",
      "Keypoints count: 50\n",
      "Keypoints count: 15\n",
      "Keypoints count: 45\n",
      "Keypoints count: 94\n",
      "Keypoints count: 54\n",
      "Keypoints count: 68\n",
      "Keypoints count: 96\n",
      "Keypoints count: 45\n",
      "Keypoints count: 102\n",
      "Keypoints count: 31\n",
      "Keypoints count: 37\n",
      "Keypoints count: 65\n",
      "Keypoints count: 59\n",
      "Keypoints count: 20\n",
      "Keypoints count: 48\n",
      "Keypoints count: 98\n",
      "Keypoints count: 92\n",
      "Keypoints count: 84\n",
      "Keypoints count: 51\n",
      "Keypoints count: 22\n",
      "Keypoints count: 80\n",
      "Keypoints count: 58\n",
      "Keypoints count: 36\n",
      "Keypoints count: 31\n",
      "Keypoints count: 83\n",
      "Keypoints count: 118\n",
      "Keypoints count: 90\n",
      "Keypoints count: 22\n",
      "Keypoints count: 32\n",
      "Keypoints count: 104\n",
      "Keypoints count: 47\n",
      "Keypoints count: 53\n",
      "Keypoints count: 82\n",
      "Keypoints count: 57\n",
      "Keypoints count: 43\n",
      "Keypoints count: 114\n",
      "Keypoints count: 62\n",
      "Keypoints count: 67\n",
      "Keypoints count: 92\n",
      "Keypoints count: 62\n",
      "Keypoints count: 44\n",
      "Keypoints count: 59\n",
      "Keypoints count: 47\n",
      "Keypoints count: 83\n",
      "Keypoints count: 66\n",
      "Keypoints count: 112\n",
      "Keypoints count: 90\n",
      "Keypoints count: 157\n",
      "Keypoints count: 78\n",
      "Keypoints count: 85\n",
      "Keypoints count: 56\n",
      "Keypoints count: 80\n",
      "Keypoints count: 37\n",
      "Keypoints count: 55\n",
      "Keypoints count: 96\n",
      "Keypoints count: 75\n",
      "Keypoints count: 51\n",
      "Keypoints count: 54\n",
      "Keypoints count: 43\n",
      "Keypoints count: 27\n",
      "Keypoints count: 55\n",
      "Keypoints count: 30\n",
      "Keypoints count: 53\n",
      "Keypoints count: 79\n",
      "Keypoints count: 33\n",
      "Keypoints count: 28\n",
      "Keypoints count: 19\n",
      "Keypoints count: 104\n",
      "Keypoints count: 72\n",
      "Keypoints count: 81\n",
      "Keypoints count: 40\n",
      "Keypoints count: 139\n",
      "Keypoints count: 50\n",
      "Keypoints count: 29\n",
      "Keypoints count: 77\n",
      "Keypoints count: 5\n",
      "Keypoints count: 54\n",
      "Keypoints count: 19\n",
      "Keypoints count: 71\n",
      "Keypoints count: 35\n",
      "Keypoints count: 85\n",
      "Keypoints count: 30\n",
      "Keypoints count: 29\n",
      "Keypoints count: 103\n",
      "Keypoints count: 40\n",
      "Keypoints count: 10\n",
      "Keypoints count: 44\n",
      "Keypoints count: 20\n",
      "Keypoints count: 31\n",
      "Keypoints count: 40\n",
      "Keypoints count: 45\n",
      "Keypoints count: 84\n",
      "Keypoints count: 67\n",
      "Keypoints count: 109\n",
      "Keypoints count: 98\n",
      "Keypoints count: 37\n",
      "Keypoints count: 35\n",
      "Keypoints count: 25\n",
      "Keypoints count: 14\n",
      "Keypoints count: 123\n",
      "Keypoints count: 52\n",
      "Keypoints count: 20\n",
      "Keypoints count: 31\n",
      "Keypoints count: 101\n",
      "Keypoints count: 71\n",
      "Keypoints count: 25\n",
      "Keypoints count: 53\n",
      "Keypoints count: 54\n",
      "Keypoints count: 62\n",
      "Keypoints count: 82\n",
      "Keypoints count: 25\n",
      "Keypoints count: 65\n",
      "Keypoints count: 95\n",
      "Keypoints count: 48\n",
      "Keypoints count: 44\n",
      "Keypoints count: 41\n",
      "Keypoints count: 79\n",
      "Keypoints count: 23\n",
      "Keypoints count: 74\n",
      "Keypoints count: 132\n",
      "Keypoints count: 78\n",
      "Keypoints count: 43\n",
      "Keypoints count: 26\n",
      "Keypoints count: 22\n",
      "Keypoints count: 90\n",
      "Keypoints count: 15\n",
      "Keypoints count: 89\n",
      "Keypoints count: 73\n",
      "Keypoints count: 90\n",
      "Keypoints count: 105\n",
      "Keypoints count: 89\n",
      "Keypoints count: 72\n",
      "Keypoints count: 60\n",
      "Keypoints count: 50\n",
      "Keypoints count: 70\n",
      "Keypoints count: 93\n",
      "Keypoints count: 72\n",
      "Keypoints count: 73\n",
      "Keypoints count: 48\n",
      "Keypoints count: 81\n",
      "Keypoints count: 46\n",
      "Keypoints count: 55\n",
      "Keypoints count: 77\n",
      "Keypoints count: 14\n",
      "Keypoints count: 79\n",
      "Keypoints count: 71\n",
      "Keypoints count: 24\n",
      "Keypoints count: 91\n",
      "Keypoints count: 37\n",
      "Keypoints count: 57\n",
      "Keypoints count: 76\n",
      "Keypoints count: 35\n",
      "Keypoints count: 50\n",
      "Keypoints count: 20\n",
      "Keypoints count: 95\n",
      "Keypoints count: 65\n",
      "Keypoints count: 25\n",
      "Keypoints count: 95\n",
      "Keypoints count: 62\n",
      "Keypoints count: 35\n",
      "Keypoints count: 58\n",
      "Keypoints count: 53\n",
      "Keypoints count: 25\n",
      "Keypoints count: 33\n",
      "Keypoints count: 38\n",
      "Keypoints count: 38\n",
      "Keypoints count: 54\n",
      "Keypoints count: 14\n",
      "Keypoints count: 28\n",
      "Keypoints count: 36\n",
      "Keypoints count: 27\n",
      "Keypoints count: 146\n",
      "Keypoints count: 108\n",
      "Keypoints count: 21\n",
      "Keypoints count: 11\n",
      "Keypoints count: 16\n",
      "Keypoints count: 101\n",
      "Keypoints count: 47\n",
      "Keypoints count: 44\n",
      "Keypoints count: 105\n",
      "Keypoints count: 19\n",
      "Keypoints count: 137\n",
      "Keypoints count: 76\n",
      "Keypoints count: 90\n",
      "Keypoints count: 80\n",
      "Keypoints count: 86\n",
      "Keypoints count: 70\n",
      "Keypoints count: 52\n",
      "Keypoints count: 28\n",
      "Keypoints count: 37\n",
      "Keypoints count: 44\n",
      "Keypoints count: 81\n",
      "Keypoints count: 63\n",
      "Keypoints count: 37\n",
      "Keypoints count: 33\n",
      "Keypoints count: 36\n",
      "Keypoints count: 23\n",
      "Keypoints count: 14\n",
      "Keypoints count: 76\n",
      "Keypoints count: 100\n",
      "Keypoints count: 49\n",
      "Keypoints count: 76\n",
      "Keypoints count: 23\n",
      "Keypoints count: 81\n",
      "Keypoints count: 109\n",
      "Keypoints count: 107\n",
      "Keypoints count: 29\n",
      "Keypoints count: 32\n",
      "Keypoints count: 37\n",
      "Keypoints count: 32\n",
      "Keypoints count: 86\n",
      "Keypoints count: 44\n",
      "Keypoints count: 51\n",
      "Keypoints count: 28\n",
      "Keypoints count: 71\n",
      "Keypoints count: 72\n",
      "Keypoints count: 90\n",
      "Keypoints count: 36\n",
      "Keypoints count: 26\n",
      "Keypoints count: 97\n",
      "Keypoints count: 89\n",
      "Keypoints count: 55\n",
      "Keypoints count: 10\n",
      "Keypoints count: 28\n",
      "Keypoints count: 10\n",
      "Keypoints count: 31\n",
      "Keypoints count: 90\n",
      "Keypoints count: 49\n",
      "Keypoints count: 18\n",
      "Keypoints count: 18\n",
      "Keypoints count: 66\n",
      "Keypoints count: 101\n",
      "Keypoints count: 38\n",
      "Keypoints count: 22\n",
      "Keypoints count: 42\n",
      "Keypoints count: 99\n",
      "Keypoints count: 15\n",
      "Keypoints count: 65\n",
      "Keypoints count: 65\n",
      "Keypoints count: 41\n",
      "Keypoints count: 35\n",
      "Keypoints count: 58\n",
      "Keypoints count: 42\n",
      "Keypoints count: 40\n",
      "Keypoints count: 57\n",
      "Keypoints count: 111\n",
      "Keypoints count: 36\n",
      "Keypoints count: 28\n",
      "Keypoints count: 94\n",
      "Keypoints count: 52\n",
      "Keypoints count: 52\n",
      "Keypoints count: 107\n",
      "Keypoints count: 58\n",
      "Keypoints count: 85\n",
      "Keypoints count: 95\n",
      "Keypoints count: 28\n",
      "Classified  297  of  300  correctly\n",
      "Classified  0  of  300  falsy\n",
      "Classified  3  of  300   with to low confidence\n"
     ]
    },
    {
     "data": {
      "text/plain": [
       "<matplotlib.figure.Figure at 0x7f9782fea090>"
      ]
     },
     "metadata": {},
     "output_type": "display_data"
    }
   ],
   "source": [
    "orbResultStandard = runTest('orb', testSetNoDistortion)\n",
    "orbResultRotation = runTest('orb', testSetRotation)\n",
    "orbResultGamma = runTest('orb', testSetGamma)\n",
    "orbResultGammaRotation = runTest('orb', testSetGammaRotation)"
   ]
  },
  {
   "cell_type": "code",
   "execution_count": 122,
   "metadata": {
    "collapsed": false
   },
   "outputs": [
    {
     "name": "stdout",
     "output_type": "stream",
     "text": [
      "Correctly classified  297 of  300\n",
      "Falsly classified  0 of  300\n",
      "To low confidence for  3 of  300\n",
      "Of those low confidence cases  2  would have been correctly classified\n",
      "Of those low confidence cases  1  would have been falsely classified\n"
     ]
    }
   ],
   "source": [
    "showPrettyResult(orbResultGammaRotation)"
   ]
  },
  {
   "cell_type": "code",
   "execution_count": 123,
   "metadata": {
    "collapsed": false
   },
   "outputs": [
    {
     "name": "stdout",
     "output_type": "stream",
     "text": [
      "Keypoints count: 89\n",
      "Keypoints count: 60\n",
      "Keypoints count: 41\n",
      "Keypoints count: 37\n",
      "Keypoints count: 47\n",
      "Keypoints count: 76\n",
      "Keypoints count: 47\n",
      "Keypoints count: 80\n",
      "Keypoints count: 131\n",
      "Keypoints count: 84\n",
      "Keypoints count: 63\n",
      "Keypoints count: 60\n",
      "Keypoints count: 49\n",
      "Keypoints count: 43\n",
      "Keypoints count: 58\n",
      "Keypoints count: 77\n",
      "Keypoints count: 44\n",
      "Keypoints count: 142\n",
      "Keypoints count: 42\n",
      "Keypoints count: 75\n",
      "Keypoints count: 74\n",
      "Keypoints count: 56\n",
      "Keypoints count: 86\n",
      "Keypoints count: 67\n",
      "Keypoints count: 86\n",
      "Keypoints count: 65\n",
      "Keypoints count: 9\n",
      "Keypoints count: 60\n",
      "Keypoints count: 96\n",
      "Keypoints count: 73\n",
      "Keypoints count: 26\n",
      "Keypoints count: 16\n",
      "Keypoints count: 71\n",
      "Keypoints count: 44\n",
      "Keypoints count: 91\n",
      "Keypoints count: 42\n",
      "Keypoints count: 64\n",
      "Keypoints count: 153\n",
      "Keypoints count: 68\n",
      "Keypoints count: 27\n",
      "Keypoints count: 6\n",
      "Keypoints count: 75\n",
      "Keypoints count: 39\n",
      "Keypoints count: 39\n",
      "Keypoints count: 76\n",
      "Keypoints count: 25\n",
      "Keypoints count: 46\n",
      "Keypoints count: 108\n",
      "Keypoints count: 86\n",
      "Keypoints count: 47\n",
      "Keypoints count: 115\n",
      "Keypoints count: 84\n",
      "Keypoints count: 108\n",
      "Keypoints count: 29\n",
      "Keypoints count: 47\n",
      "Keypoints count: 66\n",
      "Keypoints count: 76\n",
      "Keypoints count: 28\n",
      "Keypoints count: 55\n",
      "Keypoints count: 102\n",
      "Keypoints count: 86\n",
      "Keypoints count: 64\n",
      "Keypoints count: 87\n",
      "Keypoints count: 26\n",
      "Keypoints count: 91\n",
      "Keypoints count: 57\n",
      "Keypoints count: 56\n",
      "Keypoints count: 54\n",
      "Keypoints count: 90\n",
      "Keypoints count: 144\n"
     ]
    },
    {
     "ename": "KeyboardInterrupt",
     "evalue": "",
     "output_type": "error",
     "traceback": [
      "\u001b[1;31m---------------------------------------------------------------------------\u001b[0m",
      "\u001b[1;31mKeyboardInterrupt\u001b[0m                         Traceback (most recent call last)",
      "\u001b[1;32m<ipython-input-123-5d3f123b39a1>\u001b[0m in \u001b[0;36m<module>\u001b[1;34m()\u001b[0m\n\u001b[0;32m      2\u001b[0m \u001b[1;33m\u001b[0m\u001b[0m\n\u001b[0;32m      3\u001b[0m \u001b[1;32mfor\u001b[0m \u001b[0mi\u001b[0m \u001b[1;32min\u001b[0m \u001b[0mrange\u001b[0m\u001b[1;33m(\u001b[0m\u001b[1;36m0\u001b[0m\u001b[1;33m,\u001b[0m \u001b[1;36m10\u001b[0m\u001b[1;33m)\u001b[0m\u001b[1;33m:\u001b[0m\u001b[1;33m\u001b[0m\u001b[0m\n\u001b[1;32m----> 4\u001b[1;33m     \u001b[0morbResultRotation\u001b[0m \u001b[1;33m=\u001b[0m \u001b[0mrunTest\u001b[0m\u001b[1;33m(\u001b[0m\u001b[1;34m'orb'\u001b[0m\u001b[1;33m,\u001b[0m \u001b[0mtestSetRotation\u001b[0m\u001b[1;33m)\u001b[0m\u001b[1;33m\u001b[0m\u001b[0m\n\u001b[0m\u001b[0;32m      5\u001b[0m     \u001b[0morbResultGamma\u001b[0m \u001b[1;33m=\u001b[0m \u001b[0mrunTest\u001b[0m\u001b[1;33m(\u001b[0m\u001b[1;34m'orb'\u001b[0m\u001b[1;33m,\u001b[0m \u001b[0mtestSetGamma\u001b[0m\u001b[1;33m)\u001b[0m\u001b[1;33m\u001b[0m\u001b[0m\n\u001b[0;32m      6\u001b[0m     \u001b[0morbResultGammaRotation\u001b[0m \u001b[1;33m=\u001b[0m \u001b[0mrunTest\u001b[0m\u001b[1;33m(\u001b[0m\u001b[1;34m'orb'\u001b[0m\u001b[1;33m,\u001b[0m \u001b[0mtestSetGammaRotation\u001b[0m\u001b[1;33m)\u001b[0m\u001b[1;33m\u001b[0m\u001b[0m\n",
      "\u001b[1;32m<ipython-input-19-5586bd162718>\u001b[0m in \u001b[0;36mrunTest\u001b[1;34m(featureMethod, testSet)\u001b[0m\n\u001b[0;32m     28\u001b[0m         \u001b[0mresetScores\u001b[0m\u001b[1;33m(\u001b[0m\u001b[0mcardData\u001b[0m\u001b[1;33m)\u001b[0m\u001b[1;33m\u001b[0m\u001b[0m\n\u001b[0;32m     29\u001b[0m \u001b[1;33m\u001b[0m\u001b[0m\n\u001b[1;32m---> 30\u001b[1;33m         \u001b[0mbestMatchName\u001b[0m \u001b[1;33m=\u001b[0m \u001b[0mfindBestMatch\u001b[0m\u001b[1;33m(\u001b[0m\u001b[0mtestCardImg\u001b[0m\u001b[1;33m,\u001b[0m \u001b[0mcardData\u001b[0m\u001b[1;33m,\u001b[0m \u001b[0mdescriptors\u001b[0m\u001b[1;33m,\u001b[0m \u001b[0mcardIndex\u001b[0m\u001b[1;33m,\u001b[0m \u001b[0mfeatureMethod\u001b[0m\u001b[1;33m,\u001b[0m \u001b[0mos\u001b[0m\u001b[1;33m.\u001b[0m\u001b[0mpath\u001b[0m\u001b[1;33m.\u001b[0m\u001b[0mbasename\u001b[0m\u001b[1;33m(\u001b[0m\u001b[0mtestCard\u001b[0m\u001b[1;33m.\u001b[0m\u001b[0msplit\u001b[0m\u001b[1;33m(\u001b[0m\u001b[1;34m'.'\u001b[0m\u001b[1;33m)\u001b[0m\u001b[1;33m[\u001b[0m\u001b[1;36m0\u001b[0m\u001b[1;33m]\u001b[0m\u001b[1;33m.\u001b[0m\u001b[0msplit\u001b[0m\u001b[1;33m(\u001b[0m\u001b[1;34m\"[\"\u001b[0m\u001b[1;33m)\u001b[0m\u001b[1;33m[\u001b[0m\u001b[1;36m0\u001b[0m\u001b[1;33m]\u001b[0m\u001b[1;33m)\u001b[0m\u001b[1;33m,\u001b[0m \u001b[0mos\u001b[0m\u001b[1;33m.\u001b[0m\u001b[0mpath\u001b[0m\u001b[1;33m.\u001b[0m\u001b[0mbasename\u001b[0m\u001b[1;33m(\u001b[0m\u001b[0mtestCard\u001b[0m\u001b[1;33m)\u001b[0m\u001b[1;33m)\u001b[0m\u001b[1;33m\u001b[0m\u001b[0m\n\u001b[0m\u001b[0;32m     31\u001b[0m \u001b[1;33m\u001b[0m\u001b[0m\n\u001b[0;32m     32\u001b[0m         \u001b[0msoftMaxValue\u001b[0m \u001b[1;33m=\u001b[0m \u001b[0mcardData\u001b[0m\u001b[1;33m[\u001b[0m\u001b[1;34m'/data/img/KLD/'\u001b[0m \u001b[1;33m+\u001b[0m \u001b[0mbestMatchName\u001b[0m  \u001b[1;33m+\u001b[0m \u001b[1;34m'.png'\u001b[0m\u001b[1;33m]\u001b[0m\u001b[1;33m[\u001b[0m\u001b[1;36m3\u001b[0m\u001b[1;33m]\u001b[0m\u001b[1;33m\u001b[0m\u001b[0m\n",
      "\u001b[1;32m<ipython-input-99-cb842c2131be>\u001b[0m in \u001b[0;36mfindBestMatch\u001b[1;34m(cardImg, cardData, allDescriptors, cardIndex, featureMethod, realName, testName)\u001b[0m\n\u001b[0;32m     10\u001b[0m     \u001b[0mi\u001b[0m \u001b[1;33m=\u001b[0m \u001b[1;36m0\u001b[0m\u001b[1;33m\u001b[0m\u001b[0m\n\u001b[0;32m     11\u001b[0m \u001b[1;33m\u001b[0m\u001b[0m\n\u001b[1;32m---> 12\u001b[1;33m     \u001b[0mgetCardScores\u001b[0m\u001b[1;33m(\u001b[0m\u001b[0mdescriptor\u001b[0m\u001b[1;33m,\u001b[0m \u001b[0mallDescriptors\u001b[0m\u001b[1;33m,\u001b[0m \u001b[0mcardData\u001b[0m\u001b[1;33m,\u001b[0m \u001b[0mcardIndex\u001b[0m\u001b[1;33m,\u001b[0m \u001b[0mfeatureMethod\u001b[0m\u001b[1;33m)\u001b[0m\u001b[1;33m\u001b[0m\u001b[0m\n\u001b[0m\u001b[0;32m     13\u001b[0m     \"\"\"\n\u001b[0;32m     14\u001b[0m     \u001b[1;32mfor\u001b[0m \u001b[0mcardName\u001b[0m \u001b[1;32min\u001b[0m \u001b[0mcardData\u001b[0m\u001b[1;33m:\u001b[0m\u001b[1;33m\u001b[0m\u001b[0m\n",
      "\u001b[1;32m<ipython-input-12-9bac8da152ce>\u001b[0m in \u001b[0;36mgetCardScores\u001b[1;34m(descriptor, allDescriptors, cardData, cardIndex, method)\u001b[0m\n\u001b[0;32m      1\u001b[0m \u001b[1;32mdef\u001b[0m \u001b[0mgetCardScores\u001b[0m\u001b[1;33m(\u001b[0m\u001b[0mdescriptor\u001b[0m\u001b[1;33m,\u001b[0m \u001b[0mallDescriptors\u001b[0m\u001b[1;33m,\u001b[0m \u001b[0mcardData\u001b[0m\u001b[1;33m,\u001b[0m \u001b[0mcardIndex\u001b[0m\u001b[1;33m,\u001b[0m \u001b[0mmethod\u001b[0m\u001b[1;33m)\u001b[0m\u001b[1;33m:\u001b[0m\u001b[1;33m\u001b[0m\u001b[0m\n\u001b[1;32m----> 2\u001b[1;33m     \u001b[0mmatches\u001b[0m \u001b[1;33m=\u001b[0m  \u001b[0mfindGoodMatches\u001b[0m\u001b[1;33m(\u001b[0m\u001b[0mdescriptor\u001b[0m\u001b[1;33m,\u001b[0m \u001b[0mallDescriptors\u001b[0m\u001b[1;33m,\u001b[0m \u001b[0mmethod\u001b[0m\u001b[1;33m)\u001b[0m\u001b[1;33m\u001b[0m\u001b[0m\n\u001b[0m\u001b[0;32m      3\u001b[0m \u001b[1;33m\u001b[0m\u001b[0m\n\u001b[0;32m      4\u001b[0m     \u001b[1;32mfor\u001b[0m \u001b[0mmatch\u001b[0m \u001b[1;32min\u001b[0m \u001b[0mmatches\u001b[0m\u001b[1;33m:\u001b[0m\u001b[1;33m\u001b[0m\u001b[0m\n\u001b[0;32m      5\u001b[0m         \u001b[0mcardData\u001b[0m\u001b[1;33m[\u001b[0m\u001b[0mcardIndex\u001b[0m\u001b[1;33m[\u001b[0m\u001b[0mmatch\u001b[0m\u001b[1;33m.\u001b[0m\u001b[0mtrainIdx\u001b[0m\u001b[1;33m]\u001b[0m\u001b[1;33m]\u001b[0m\u001b[1;33m[\u001b[0m\u001b[1;36m2\u001b[0m\u001b[1;33m]\u001b[0m \u001b[1;33m+=\u001b[0m \u001b[1;33m(\u001b[0m\u001b[1;36m1\u001b[0m \u001b[1;33m/\u001b[0m \u001b[1;33m(\u001b[0m\u001b[0mmatch\u001b[0m\u001b[1;33m.\u001b[0m\u001b[0mdistance\u001b[0m \u001b[1;33m**\u001b[0m \u001b[1;36m2\u001b[0m\u001b[1;33m)\u001b[0m\u001b[1;33m)\u001b[0m\u001b[1;33m\u001b[0m\u001b[0m\n",
      "\u001b[1;32m<ipython-input-14-fbcdee39d7dc>\u001b[0m in \u001b[0;36mfindGoodMatches\u001b[1;34m(descriptor1, descriptor2, featureMethod)\u001b[0m\n\u001b[0;32m      1\u001b[0m \u001b[1;32mdef\u001b[0m \u001b[0mfindGoodMatches\u001b[0m\u001b[1;33m(\u001b[0m\u001b[0mdescriptor1\u001b[0m\u001b[1;33m,\u001b[0m \u001b[0mdescriptor2\u001b[0m\u001b[1;33m,\u001b[0m \u001b[0mfeatureMethod\u001b[0m\u001b[1;33m)\u001b[0m\u001b[1;33m:\u001b[0m\u001b[1;33m\u001b[0m\u001b[0m\n\u001b[1;32m----> 2\u001b[1;33m     \u001b[0mmatches\u001b[0m \u001b[1;33m=\u001b[0m \u001b[0mfindMatches\u001b[0m\u001b[1;33m(\u001b[0m\u001b[0mdescriptor1\u001b[0m\u001b[1;33m,\u001b[0m \u001b[0mdescriptor2\u001b[0m\u001b[1;33m,\u001b[0m \u001b[0mfeatureMethod\u001b[0m\u001b[1;33m)\u001b[0m\u001b[1;33m\u001b[0m\u001b[0m\n\u001b[0m\u001b[0;32m      3\u001b[0m \u001b[1;33m\u001b[0m\u001b[0m\n\u001b[0;32m      4\u001b[0m     \u001b[0mgoodMatches\u001b[0m \u001b[1;33m=\u001b[0m \u001b[1;33m[\u001b[0m\u001b[1;33m]\u001b[0m\u001b[1;33m\u001b[0m\u001b[0m\n\u001b[0;32m      5\u001b[0m \u001b[1;33m\u001b[0m\u001b[0m\n",
      "\u001b[1;32m<ipython-input-9-a3797e98e440>\u001b[0m in \u001b[0;36mfindMatches\u001b[1;34m(descriptor1, descriptor2, featureMethod)\u001b[0m\n\u001b[0;32m      2\u001b[0m     \u001b[1;32mif\u001b[0m\u001b[1;33m(\u001b[0m\u001b[0mfeatureMethod\u001b[0m \u001b[1;33m==\u001b[0m \u001b[1;34m'orb'\u001b[0m\u001b[1;33m)\u001b[0m\u001b[1;33m:\u001b[0m\u001b[1;33m\u001b[0m\u001b[0m\n\u001b[0;32m      3\u001b[0m         \u001b[0mbf\u001b[0m \u001b[1;33m=\u001b[0m \u001b[0mcv2\u001b[0m\u001b[1;33m.\u001b[0m\u001b[0mBFMatcher\u001b[0m\u001b[1;33m(\u001b[0m\u001b[0mcv2\u001b[0m\u001b[1;33m.\u001b[0m\u001b[0mNORM_HAMMING\u001b[0m\u001b[1;33m)\u001b[0m\u001b[1;33m\u001b[0m\u001b[0m\n\u001b[1;32m----> 4\u001b[1;33m         \u001b[1;32mreturn\u001b[0m \u001b[0mbf\u001b[0m\u001b[1;33m.\u001b[0m\u001b[0mknnMatch\u001b[0m\u001b[1;33m(\u001b[0m\u001b[0mdescriptor1\u001b[0m\u001b[1;33m,\u001b[0m \u001b[0mdescriptor2\u001b[0m\u001b[1;33m,\u001b[0m \u001b[0mk\u001b[0m\u001b[1;33m=\u001b[0m\u001b[1;36m2\u001b[0m\u001b[1;33m)\u001b[0m\u001b[1;33m\u001b[0m\u001b[0m\n\u001b[0m\u001b[0;32m      5\u001b[0m     \u001b[1;32mif\u001b[0m\u001b[1;33m(\u001b[0m\u001b[0mfeatureMethod\u001b[0m \u001b[1;33m==\u001b[0m \u001b[1;34m'sift'\u001b[0m\u001b[1;33m)\u001b[0m\u001b[1;33m:\u001b[0m\u001b[1;33m\u001b[0m\u001b[0m\n\u001b[0;32m      6\u001b[0m         \u001b[0mFLANN_INDEX_KDTREE\u001b[0m \u001b[1;33m=\u001b[0m \u001b[1;36m0\u001b[0m\u001b[1;33m\u001b[0m\u001b[0m\n",
      "\u001b[1;31mKeyboardInterrupt\u001b[0m: "
     ]
    },
    {
     "data": {
      "text/plain": [
       "<matplotlib.figure.Figure at 0x7f978341e490>"
      ]
     },
     "metadata": {},
     "output_type": "display_data"
    }
   ],
   "source": [
    "orbResults = []\n",
    "\n",
    "for i in range(0, 10):\n",
    "    orbResultRotation = runTest('orb', testSetRotation)\n",
    "    orbResultGamma = runTest('orb', testSetGamma)\n",
    "    orbResultGammaRotation = runTest('orb', testSetGammaRotation)\n",
    "    \n",
    "    orbResults.append((orbResultRotation, orbResultGamma, orbResultGammaRotation))\n",
    "    print 'Finished cycle:', str(i)\n",
    "    da.createNewTestSet()"
   ]
  },
  {
   "cell_type": "code",
   "execution_count": 45,
   "metadata": {
    "collapsed": false,
    "scrolled": true
   },
   "outputs": [
    {
     "data": {
      "text/plain": [
       "[2944, 2954, 2938]"
      ]
     },
     "execution_count": 45,
     "metadata": {},
     "output_type": "execute_result"
    }
   ],
   "source": [
    "sumUpResult(orbResults)"
   ]
  },
  {
   "cell_type": "code",
   "execution_count": 89,
   "metadata": {
    "collapsed": false
   },
   "outputs": [
    {
     "name": "stdout",
     "output_type": "stream",
     "text": [
      "Avergae:  nan\n"
     ]
    },
    {
     "data": {
      "image/png": "[encoded data removed]",
      "text/plain": [
       "<matplotlib.figure.Figure at 0x7f438bfa4250>"
      ]
     },
     "metadata": {},
     "output_type": "display_data"
    }
   ],
   "source": [
    "#showConfidenceHistogramm(siftResultStandard)\n",
    "#showConfidenceHistogramm(surfResultStandard)\n",
    "#showConfidenceHistogramm(orbResultStandard)"
   ]
  },
  {
   "cell_type": "code",
   "execution_count": 126,
   "metadata": {
    "collapsed": false
   },
   "outputs": [
    {
     "ename": "NameError",
     "evalue": "name 'siftResultStandard' is not defined",
     "output_type": "error",
     "traceback": [
      "\u001b[1;31m---------------------------------------------------------------------------\u001b[0m",
      "\u001b[1;31mNameError\u001b[0m                                 Traceback (most recent call last)",
      "\u001b[1;32m<ipython-input-126-bcd657df5ffd>\u001b[0m in \u001b[0;36m<module>\u001b[1;34m()\u001b[0m\n\u001b[1;32m----> 1\u001b[1;33m \u001b[0mshowConfidenceHistogrammWrongClassified\u001b[0m\u001b[1;33m(\u001b[0m\u001b[0msiftResultStandard\u001b[0m\u001b[1;33m)\u001b[0m\u001b[1;33m\u001b[0m\u001b[0m\n\u001b[0m\u001b[0;32m      2\u001b[0m \u001b[1;31m#showConfidenceHistogrammWrongClassified(surfResultStandard)\u001b[0m\u001b[1;33m\u001b[0m\u001b[1;33m\u001b[0m\u001b[0m\n\u001b[0;32m      3\u001b[0m \u001b[1;31m#showConfidenceHistogrammWrongClassified(orbResultStandard)\u001b[0m\u001b[1;33m\u001b[0m\u001b[1;33m\u001b[0m\u001b[0m\n",
      "\u001b[1;31mNameError\u001b[0m: name 'siftResultStandard' is not defined"
     ]
    }
   ],
   "source": [
    "#showConfidenceHistogrammWrongClassified(siftResultStandard)\n",
    "#showConfidenceHistogrammWrongClassified(surfResultStandard)\n",
    "#showConfidenceHistogrammWrongClassified(orbResultStandard)"
   ]
  },
  {
   "cell_type": "code",
   "execution_count": 98,
   "metadata": {
    "collapsed": false
   },
   "outputs": [
    {
     "name": "stdout",
     "output_type": "stream",
     "text": [
      "Classified  291  of  300  correctly\n",
      "Classified  6  of  300  falsy\n",
      "Classified  3  of  300   with to low confidence\n"
     ]
    },
    {
     "data": {
      "text/plain": [
       "<matplotlib.figure.Figure at 0x7f9784560a50>"
      ]
     },
     "metadata": {},
     "output_type": "display_data"
    },
    {
     "data": {
      "text/plain": [
       "<matplotlib.figure.Figure at 0x7f9784417fd0>"
      ]
     },
     "metadata": {},
     "output_type": "display_data"
    },
    {
     "data": {
      "text/plain": [
       "<matplotlib.figure.Figure at 0x7f97843e27d0>"
      ]
     },
     "metadata": {},
     "output_type": "display_data"
    },
    {
     "data": {
      "text/plain": [
       "<matplotlib.figure.Figure at 0x7f9784520e50>"
      ]
     },
     "metadata": {},
     "output_type": "display_data"
    },
    {
     "data": {
      "text/plain": [
       "<matplotlib.figure.Figure at 0x7f9784548a10>"
      ]
     },
     "metadata": {},
     "output_type": "display_data"
    },
    {
     "data": {
      "text/plain": [
       "<matplotlib.figure.Figure at 0x7f978444c1d0>"
      ]
     },
     "metadata": {},
     "output_type": "display_data"
    },
    {
     "data": {
      "text/plain": [
       "<matplotlib.figure.Figure at 0x7f9784511110>"
      ]
     },
     "metadata": {},
     "output_type": "display_data"
    },
    {
     "data": {
      "text/plain": [
       "<matplotlib.figure.Figure at 0x7f97844aab10>"
      ]
     },
     "metadata": {},
     "output_type": "display_data"
    },
    {
     "data": {
      "text/plain": [
       "<matplotlib.figure.Figure at 0x7f97844aa290>"
      ]
     },
     "metadata": {},
     "output_type": "display_data"
    }
   ],
   "source": [
    "\n",
    "#surfResultStandard = runTest('surf', testSetNoDistortion)\n",
    "surfResultRotation = runTest('surf', testSetRotation)\n",
    "#surfGamma, missClassifiedSurfGamma = runTest('surf', testSetGamma)\n",
    "#surfGammaRotation, missClassifiedSurfGammaRotation = runTest('surf', testSetGammaRotation)\n",
    "\n",
    "#surfTime = time.time()  - start_time"
   ]
  },
  {
   "cell_type": "code",
   "execution_count": 383,
   "metadata": {
    "collapsed": false
   },
   "outputs": [
    {
     "name": "stdout",
     "output_type": "stream",
     "text": [
      "Correctly classified  295 of  300\n",
      "Falsly classified  2 of  300\n",
      "To low confidence for  3 of  300\n",
      "Of those low confidence cases  0  would have been correctly classified\n",
      "Of those low confidence cases  3  would have been falsely classified\n"
     ]
    }
   ],
   "source": [
    "showPrettyResult(surfResult)\n"
   ]
  },
  {
   "cell_type": "code",
   "execution_count": 86,
   "metadata": {
    "collapsed": false
   },
   "outputs": [
    {
     "name": "stdout",
     "output_type": "stream",
     "text": [
      "Classified  280  of  300  correctly\n",
      "Classified  15  of  300  falsy\n",
      "Classified  5  of  300   with to low confidence\n"
     ]
    },
    {
     "data": {
      "text/plain": [
       "<matplotlib.figure.Figure at 0x7f9782ef6650>"
      ]
     },
     "metadata": {},
     "output_type": "display_data"
    },
    {
     "data": {
      "text/plain": [
       "<matplotlib.figure.Figure at 0x7f97805c33d0>"
      ]
     },
     "metadata": {},
     "output_type": "display_data"
    },
    {
     "data": {
      "text/plain": [
       "<matplotlib.figure.Figure at 0x7f9785755950>"
      ]
     },
     "metadata": {},
     "output_type": "display_data"
    },
    {
     "data": {
      "text/plain": [
       "<matplotlib.figure.Figure at 0x7f97846af6d0>"
      ]
     },
     "metadata": {},
     "output_type": "display_data"
    },
    {
     "data": {
      "text/plain": [
       "<matplotlib.figure.Figure at 0x7f97846af650>"
      ]
     },
     "metadata": {},
     "output_type": "display_data"
    },
    {
     "data": {
      "text/plain": [
       "<matplotlib.figure.Figure at 0x7f97845e2610>"
      ]
     },
     "metadata": {},
     "output_type": "display_data"
    },
    {
     "data": {
      "text/plain": [
       "<matplotlib.figure.Figure at 0x7f97844ea090>"
      ]
     },
     "metadata": {},
     "output_type": "display_data"
    },
    {
     "data": {
      "text/plain": [
       "<matplotlib.figure.Figure at 0x7f97844ea690>"
      ]
     },
     "metadata": {},
     "output_type": "display_data"
    },
    {
     "data": {
      "text/plain": [
       "<matplotlib.figure.Figure at 0x7f97844eac50>"
      ]
     },
     "metadata": {},
     "output_type": "display_data"
    },
    {
     "data": {
      "text/plain": [
       "<matplotlib.figure.Figure at 0x7f97844f72d0>"
      ]
     },
     "metadata": {},
     "output_type": "display_data"
    },
    {
     "data": {
      "text/plain": [
       "<matplotlib.figure.Figure at 0x7f97844f78d0>"
      ]
     },
     "metadata": {},
     "output_type": "display_data"
    },
    {
     "data": {
      "text/plain": [
       "<matplotlib.figure.Figure at 0x7f97844f7e90>"
      ]
     },
     "metadata": {},
     "output_type": "display_data"
    },
    {
     "data": {
      "text/plain": [
       "<matplotlib.figure.Figure at 0x7f9784511650>"
      ]
     },
     "metadata": {},
     "output_type": "display_data"
    },
    {
     "data": {
      "text/plain": [
       "<matplotlib.figure.Figure at 0x7f9784511d50>"
      ]
     },
     "metadata": {},
     "output_type": "display_data"
    },
    {
     "data": {
      "text/plain": [
       "<matplotlib.figure.Figure at 0x7f9784520690>"
      ]
     },
     "metadata": {},
     "output_type": "display_data"
    },
    {
     "data": {
      "text/plain": [
       "<matplotlib.figure.Figure at 0x7f9784560310>"
      ]
     },
     "metadata": {},
     "output_type": "display_data"
    },
    {
     "data": {
      "text/plain": [
       "<matplotlib.figure.Figure at 0x7f9784560ed0>"
      ]
     },
     "metadata": {},
     "output_type": "display_data"
    }
   ],
   "source": [
    "\n",
    "#siftResultStandard = runTest('sift', testSetNoDistortion)\n",
    "siftResultRotation = runTest('sift', testSetRotation)\n",
    "#siftResultGamma = runTest('sift', testSetGamma)\n",
    "#siftResultGammaRotation = runTest('sift', testSetGammaRotation)\n",
    "\n",
    "#siftTime = time.time() - start_time"
   ]
  },
  {
   "cell_type": "code",
   "execution_count": 65,
   "metadata": {
    "collapsed": false
   },
   "outputs": [
    {
     "ename": "NameError",
     "evalue": "name 'siftResultStandard' is not defined",
     "output_type": "error",
     "traceback": [
      "\u001b[1;31m---------------------------------------------------------------------------\u001b[0m",
      "\u001b[1;31mNameError\u001b[0m                                 Traceback (most recent call last)",
      "\u001b[1;32m<ipython-input-65-a9ad5ac149d5>\u001b[0m in \u001b[0;36m<module>\u001b[1;34m()\u001b[0m\n\u001b[1;32m----> 1\u001b[1;33m \u001b[0msiftResultStandard\u001b[0m\u001b[1;33m[\u001b[0m\u001b[1;36m0\u001b[0m\u001b[1;33m]\u001b[0m\u001b[1;33m\u001b[0m\u001b[0m\n\u001b[0m",
      "\u001b[1;31mNameError\u001b[0m: name 'siftResultStandard' is not defined"
     ]
    }
   ],
   "source": []
  },
  {
   "cell_type": "code",
   "execution_count": 125,
   "metadata": {
    "collapsed": false
   },
   "outputs": [
    {
     "name": "stdout",
     "output_type": "stream",
     "text": [
      "ORB\n",
      "Standard: 298\n",
      "Rotation: 293\n",
      "Gamma: 296\n",
      "GammRotation: 292\n",
      "Time: 45.1872909069\n",
      "_____\n"
     ]
    }
   ],
   "source": []
  },
  {
   "cell_type": "code",
   "execution_count": 126,
   "metadata": {
    "collapsed": false,
    "scrolled": true
   },
   "outputs": [
    {
     "name": "stdout",
     "output_type": "stream",
     "text": [
      "SURF\n",
      "Standard: 295\n",
      "Rotation: 294\n",
      "Gamma: 298\n",
      "GammRotation: 294\n",
      "Time: 171.634778023\n",
      "_____\n"
     ]
    }
   ],
   "source": []
  },
  {
   "cell_type": "code",
   "execution_count": 127,
   "metadata": {
    "collapsed": false
   },
   "outputs": [
    {
     "name": "stdout",
     "output_type": "stream",
     "text": [
      "SIFT\n",
      "Standard: 299\n",
      "Rotation: 286\n",
      "Gamma: 299\n",
      "GammRotation: 281\n",
      "Time: 709.045387983\n",
      "_____\n"
     ]
    }
   ],
   "source": []
  },
  {
   "cell_type": "code",
   "execution_count": 35,
   "metadata": {
    "collapsed": true
   },
   "outputs": [],
   "source": []
  },
  {
   "cell_type": "code",
   "execution_count": null,
   "metadata": {
    "collapsed": false,
    "scrolled": true
   },
   "outputs": [],
   "source": []
  },
  {
   "cell_type": "code",
   "execution_count": 137,
   "metadata": {
    "collapsed": false
   },
   "outputs": [
    {
     "name": "stdout",
     "output_type": "stream",
     "text": [
      "ORB avg R: 293.0\n",
      "ORB avg G: 295.2\n",
      "ORB avg RG: 292.5\n",
      "SURF avg R: 292.5\n",
      "SURF avg G: 296.444444444\n",
      "SURF avg RG: 294.0\n",
      "SIFT avg R: 286.1\n",
      "SIFT avg G: 299.0\n",
      "SIFT avg RG: 284.5\n"
     ]
    }
   ],
   "source": [
    "resultOrb = np.array([[293, 292, 295, 291, 296, 294, 291, 292, 293, 293], [295, 297, 298, 295, 295, 294, 295, 294, 293, 296], [292, 295, 295, 293, 293, 291, 293, 289, 292, 292]])\n",
    "resultSurf = np.array([[292, 293, 291, 290, 290, 293, 293, 296, 293, 294], [297, 295, 296, 296, 297, 296, 297, 296, 298], [293, 295, 295, 292, 295, 293, 292, 296, 295, 294]])\n",
    "resultSift = np.array([[284, 285, 288, 289, 288, 280, 290, 285, 286, 286], [300, 300, 299, 299, 298, 299, 298, 299, 299, 299], [283, 288, 287, 289, 283, 284, 280, 282, 288, 281]])\n",
    "\n",
    "print 'ORB avg R:', np.average(resultOrb[0])\n",
    "print 'ORB avg G:', np.average(resultOrb[1])\n",
    "print 'ORB avg RG:', np.average(resultOrb[2])\n",
    "\n",
    "\n",
    "print 'SURF avg R:', np.average(resultSurf[0])\n",
    "print 'SURF avg G:', np.average(resultSurf[1])\n",
    "print 'SURF avg RG:', np.average(resultSurf[2])\n",
    "\n",
    "\n",
    "print 'SIFT avg R:', np.average(resultSift[0])\n",
    "print 'SIFT avg G:', np.average(resultSift[1])\n",
    "print 'SIFT avg RG:', np.average(resultSift[2])\n",
    "\n"
   ]
  },
  {
   "cell_type": "code",
   "execution_count": 262,
   "metadata": {
    "collapsed": false
   },
   "outputs": [
    {
     "name": "stdout",
     "output_type": "stream",
     "text": [
      "Softmax 0.999999690911\n"
     ]
    },
    {
     "data": {
      "text/plain": [
       "('/data/img/KLD/Ruinous Gremlin.png', 0.99999969091062635)"
      ]
     },
     "execution_count": 262,
     "metadata": {},
     "output_type": "execute_result"
    }
   ],
   "source": [
    "imgD = cv2.imread(os.getcwd() + '/data/test/img2.png')\n",
    "findBestMatchOrb(imgD)"
   ]
  },
  {
   "cell_type": "code",
   "execution_count": 55,
   "metadata": {
    "collapsed": false
   },
   "outputs": [
    {
     "data": {
      "text/plain": [
       "[('Syndicate Trafficker', 'Syndicate Trafficker', 0.027958656005572236),\n",
       " ('Animation Module', 'Blossoming Defense', 0.01619765212973474),\n",
       " ('Aether Meltdown', 'Aether Meltdown', 0.013354801676905829),\n",
       " ('Mountain2', 'Aethersquall Ancient', 0.010400477893135442),\n",
       " ('Spirebluff Canal', 'Spirebluff Canal', 0.017670018170303552)]"
      ]
     },
     "execution_count": 55,
     "metadata": {},
     "output_type": "execute_result"
    }
   ],
   "source": [
    "orbResultStandard[2]"
   ]
  },
  {
   "cell_type": "code",
   "execution_count": 88,
   "metadata": {
    "collapsed": false
   },
   "outputs": [
    {
     "data": {
      "text/plain": [
       "[('Weldfast Wingsmith', 'Consulate Skygate', 0.24449282818493315),\n",
       " ('Narnam Cobra', 'Metalwork Colossus', 0.56356490448429641),\n",
       " ('Curio Vendor', \"Sage of Shaila's Claim\", 0.9584274447893697),\n",
       " ('Acrobatic Maneuver', 'Aethersquall Ancient', 0.061814666974789739),\n",
       " ('Curio Vendor', 'Wispweaver Angel', 0.99995801761152014),\n",
       " ('Metalwork Colossus', 'Take Down', 0.11657293379749768),\n",
       " ('Renegade Tactics', 'Dynavolt Tower', 0.087715826430019447),\n",
       " ('Weldfast Wingsmith', 'Aetherworks Marvel', 0.15739966147849743),\n",
       " ('Narnam Cobra', 'Aether Meltdown', 0.81687624520852453),\n",
       " ('Narnam Cobra', \"Tezzeret's Ambition\", 0.9999777292452825),\n",
       " ('Acrobatic Maneuver', 'Verdurous Gearhulk', 0.25233041913047044),\n",
       " (\"Glassblower's Puzzleknot\", 'Gonti, Lord of Luxury', 0.068380955047893391),\n",
       " ('Narnam Cobra', 'Hightide Hermit', 0.80645430123929951),\n",
       " ('Weldfast Wingsmith', 'Wispweaver Angel', 0.99612305001510792),\n",
       " ('Metalwork Colossus', \"Chandra's Pyrohelix\", 0.70117658284519568)]"
      ]
     },
     "execution_count": 88,
     "metadata": {},
     "output_type": "execute_result"
    }
   ],
   "source": [
    "siftResultRotation[1]"
   ]
  },
  {
   "cell_type": "code",
   "execution_count": 92,
   "metadata": {
    "collapsed": false
   },
   "outputs": [],
   "source": [
    "def findBestMatchSift(cardImg, realName='liveVid'):\n",
    "    cardData = cardDataSift\n",
    "    descriptors = descriptorsSift\n",
    "    cardIndex = indexSift\n",
    "    \n",
    "    testCardImg = cardImg[0:70, 0:85]\n",
    "    resetScores(cardData)\n",
    "        \n",
    "    bestMatchName = findBestMatch(testCardImg, cardData, descriptors, cardIndex, 'sift',  realName, realName + '.png')\n",
    "    \n",
    "    return bestMatchName\n"
   ]
  },
  {
   "cell_type": "code",
   "execution_count": 104,
   "metadata": {
    "collapsed": false,
    "scrolled": true
   },
   "outputs": [
    {
     "name": "stdout",
     "output_type": "stream",
     "text": [
      "Rotation 0\n",
      "Keypoints count: 113\n",
      "(\"/data/img/KLD/Sage of Shaila's Claim.png\", 0.84524605909434114)\n",
      "Rotation 1\n",
      "Keypoints count: 86\n",
      "(\"/data/img/KLD/Sage of Shaila's Claim.png\", 0.66542821074223546)\n",
      "Rotation 2\n",
      "Keypoints count: 90\n",
      "(\"/data/img/KLD/Sage of Shaila's Claim.png\", 0.59395596706082265)\n",
      "Rotation 3\n",
      "Keypoints count: 94\n",
      "(\"/data/img/KLD/Sage of Shaila's Claim.png\", 0.75291949719610174)\n",
      "Rotation 4\n",
      "Keypoints count: 82\n",
      "(\"/data/img/KLD/Sage of Shaila's Claim.png\", 0.53525284572321918)\n",
      "Rotation 5\n",
      "Keypoints count: 80\n",
      "(\"/data/img/KLD/Sage of Shaila's Claim.png\", 0.4242935531429276)\n",
      "Rotation 6\n",
      "Keypoints count: 83\n",
      "(\"/data/img/KLD/Sage of Shaila's Claim.png\", 0.70384234901049425)\n",
      "Rotation 7\n",
      "Keypoints count: 83\n",
      "(\"/data/img/KLD/Sage of Shaila's Claim.png\", 0.45088010102954634)\n",
      "Rotation 8\n",
      "Keypoints count: 72\n",
      "(\"/data/img/KLD/Sage of Shaila's Claim.png\", 0.55051255327457482)\n",
      "Rotation 9\n",
      "Keypoints count: 83\n",
      "(\"/data/img/KLD/Sage of Shaila's Claim.png\", 0.40914106679840351)\n",
      "Rotation 10\n",
      "Keypoints count: 84\n",
      "(\"/data/img/KLD/Sage of Shaila's Claim.png\", 0.26021682942570451)\n",
      "Rotation 11\n",
      "Keypoints count: 97\n",
      "('/data/img/KLD/Curio Vendor.png', 0.36856970651025495)\n",
      "Rotation 12\n",
      "Keypoints count: 95\n",
      "(\"/data/img/KLD/Sage of Shaila's Claim.png\", 0.28651364843261151)\n",
      "Rotation 13\n",
      "Keypoints count: 92\n",
      "(\"/data/img/KLD/Sage of Shaila's Claim.png\", 0.30549228031661035)\n",
      "Rotation 14\n",
      "Keypoints count: 105\n",
      "(\"/data/img/KLD/Sage of Shaila's Claim.png\", 0.35348519705018461)\n",
      "Rotation 15\n",
      "Keypoints count: 99\n",
      "('/data/img/KLD/Curio Vendor.png', 0.18536276569939963)\n",
      "Rotation 16\n",
      "Keypoints count: 95\n",
      "('/data/img/KLD/Curio Vendor.png', 0.51102691798066502)\n",
      "Rotation 17\n",
      "Keypoints count: 98\n",
      "('/data/img/KLD/Curio Vendor.png', 0.9584274447893697)\n",
      "Rotation 18\n",
      "Keypoints count: 96\n",
      "('/data/img/KLD/Curio Vendor.png', 0.99582510467399143)\n",
      "Rotation 19\n",
      "Keypoints count: 98\n",
      "('/data/img/KLD/Curio Vendor.png', 0.99943062387252746)\n"
     ]
    },
    {
     "data": {
      "image/png": "[encoded data removed]",
      "text/plain": [
       "<matplotlib.figure.Figure at 0x7f97833082d0>"
      ]
     },
     "metadata": {},
     "output_type": "display_data"
    }
   ],
   "source": [
    "img = cv2.imread(os.getcwd() + \"/data/testSet/Sage of Shaila's Claim.png\")\n",
    "\n",
    "rows,cols, color = img.shape\n",
    "\n",
    "# Create a 2D rotationsmatrix\n",
    "\n",
    "\n",
    "for n in range(0, 20):\n",
    "    print 'Rotation', n\n",
    "    M = cv2.getRotationMatrix2D((cols / 2,rows / 2), -n, 1)\n",
    "    i = cv2.warpAffine(img, M, (cols, rows))\n",
    "    \n",
    "    io.imshow(i)\n",
    "\n",
    "    print findBestMatchSift(i)"
   ]
  },
  {
   "cell_type": "code",
   "execution_count": null,
   "metadata": {
    "collapsed": true
   },
   "outputs": [],
   "source": []
  }
 ],
 "metadata": {
  "kernelspec": {
   "display_name": "Python 2",
   "language": "python",
   "name": "python2"
  },
  "language_info": {
   "codemirror_mode": {
    "name": "ipython",
    "version": 2
   },
   "file_extension": ".py",
   "mimetype": "text/x-python",
   "name": "python",
   "nbconvert_exporter": "python",
   "pygments_lexer": "ipython2",
   "version": "2.7.12"
  }
 },
 "nbformat": 4,
 "nbformat_minor": 0
}
