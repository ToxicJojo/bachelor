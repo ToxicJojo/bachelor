{
 "cells": [
  {
   "cell_type": "code",
   "execution_count": 8,
   "metadata": {
    "collapsed": true
   },
   "outputs": [],
   "source": [
    "import numpy as np\n",
    "from scipy import ndimage"
   ]
  },
  {
   "cell_type": "code",
   "execution_count": 12,
   "metadata": {
    "collapsed": false
   },
   "outputs": [],
   "source": [
    "img = np.array([[0, 0,5,13,9,1,0,0], [0,0,13,15,10,15,5,0], [0,3,15,2,0,11,8,0], [0,4,12,0,0,8,8,0], [0,5,8,0,0,9,8,0], [0,4,11,0,1,12,7,0], [0,2,14,5,10,12,0,0], [0,0,6,13,10,0,0,0] ])\n",
    "\n",
    "k1 = np.array([[1,1,1], [1,1,0], [1,0,0]])\n",
    "\n",
    "res = ndimage.filters.convolve(img, k1)"
   ]
  },
  {
   "cell_type": "code",
   "execution_count": 13,
   "metadata": {
    "collapsed": false
   },
   "outputs": [
    {
     "data": {
      "text/plain": [
       "array([[ 0, 23, 59, 69, 51, 31, 20,  5],\n",
       "       [ 3, 36, 61, 51, 39, 39, 24,  8],\n",
       "       [ 7, 47, 48, 24, 34, 40, 24,  8],\n",
       "       [12, 44, 27,  8, 28, 41, 25,  8],\n",
       "       [13, 40, 23, 12, 30, 45, 27,  7],\n",
       "       [11, 39, 32, 30, 49, 49, 19,  0],\n",
       "       [ 6, 33, 38, 45, 57, 29,  0,  0],\n",
       "       [ 2, 26, 43, 62, 45, 10,  0,  0]])"
      ]
     },
     "execution_count": 13,
     "metadata": {},
     "output_type": "execute_result"
    }
   ],
   "source": [
    "res"
   ]
  },
  {
   "cell_type": "code",
   "execution_count": 14,
   "metadata": {
    "collapsed": false
   },
   "outputs": [
    {
     "data": {
      "text/plain": [
       "array([[ 0,  0,  5, 13,  9,  1,  0,  0],\n",
       "       [ 0,  0, 13, 15, 10, 15,  5,  0],\n",
       "       [ 0,  3, 15,  2,  0, 11,  8,  0],\n",
       "       [ 0,  4, 12,  0,  0,  8,  8,  0],\n",
       "       [ 0,  5,  8,  0,  0,  9,  8,  0],\n",
       "       [ 0,  4, 11,  0,  1, 12,  7,  0],\n",
       "       [ 0,  2, 14,  5, 10, 12,  0,  0],\n",
       "       [ 0,  0,  6, 13, 10,  0,  0,  0]])"
      ]
     },
     "execution_count": 14,
     "metadata": {},
     "output_type": "execute_result"
    }
   ],
   "source": [
    "img"
   ]
  },
  {
   "cell_type": "code",
   "execution_count": null,
   "metadata": {
    "collapsed": true
   },
   "outputs": [],
   "source": []
  }
 ],
 "metadata": {
  "kernelspec": {
   "display_name": "Python 2",
   "language": "python",
   "name": "python2"
  },
  "language_info": {
   "codemirror_mode": {
    "name": "ipython",
    "version": 2
   },
   "file_extension": ".py",
   "mimetype": "text/x-python",
   "name": "python",
   "nbconvert_exporter": "python",
   "pygments_lexer": "ipython2",
   "version": "2.7.12"
  }
 },
 "nbformat": 4,
 "nbformat_minor": 0
}
